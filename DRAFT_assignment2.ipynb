{
 "cells": [
  {
   "cell_type": "markdown",
   "metadata": {},
   "source": [
    "# THIS IS NOT READY TO BE ASSIGNED YET!!!\n",
    "Problems sets is subject to change.\n",
    "\n",
    "<br><br><br>\n",
    "\n",
    "**ATMOS 5020: Environmental Programming**  \n",
    "**Due November 27, 2018 11:59 PM**\n",
    "\n",
    "# Assignment 2\n",
    "**First Name, Last Name**  \n",
    "uID\n",
    "\n",
    "---"
   ]
  },
  {
   "cell_type": "code",
   "execution_count": 4,
   "metadata": {},
   "outputs": [],
   "source": [
    "# Load these some modules\n",
    "import numpy as np\n",
    "import matplotlib.pyplot as plt"
   ]
  },
  {
   "cell_type": "markdown",
   "metadata": {},
   "source": [
    "---\n",
    "\n",
    "## Question 1: Loops to find max and min\n",
    "Write a loop that finds and prints the maximum and minimum number in a list of random numbers **WITHOUT USING BUILT-IN FUNCTIONS `max()` or `min()`**.\n",
    "- Generate a list of 100 random numbers\n",
    "- Create a variable to store max value\n",
    "- Create a variable to store min value\n",
    "- Use a loop with nested if statements to find the maximum and the minimum value of the list.\n",
    "\n",
    "The purpose of this question is to show that you understand how a loops, conditional statements, and variable assignments work.\n",
    "(It would be a good idea to check your answer with the max and min functions)."
   ]
  },
  {
   "cell_type": "code",
   "execution_count": null,
   "metadata": {},
   "outputs": [],
   "source": [
    "\n",
    "\n",
    "\n",
    "\n",
    "\n"
   ]
  },
  {
   "cell_type": "markdown",
   "metadata": {},
   "source": [
    "---\n",
    "\n",
    "## Question 2: Wind Chill\n",
    "\n",
    "The following chart illustrates how the apparent air temperature changes with wind speed, also known as [**wind chill**](https://en.wikipedia.org/wiki/Wind_chill).\n",
    "\n",
    "![](./images/Wind_chill.png)\n",
    "\n",
    "The equation to calculate wind chill is as follows:\n",
    "\n",
    "\\begin{equation} WindChill = 35.74 + (0.6215 \\times T) - (35.75 \\times Wind^{0.16}_{sfc}) + (0.4275 \\times T \\times Wind^{0.16}_{sfc})\n",
    "\\end{equation}\n",
    "\n",
    "Source: https://www.weather.gov/media/epz/wxcalc/windChill.pdf\n",
    "\n",
    "Where the temperature is givin in degrees Fahrenheit and the wind speed is given in miles per hour. \n",
    "\n",
    "1. Compute the wind chill for all integer temperatures between [40, -50] and all integer wind speeds between [0, 80].\n",
    "    - Create vector for temperatures\n",
    "    - Create vecotr for wind speeds\n",
    "    - `np.meshgrid`\n",
    "    - Perform wind chill calculation for all value combinations\n",
    "1. Generate a chart showing the results\n",
    "    - `plt.pcolormesh(x, y, z)"
   ]
  },
  {
   "cell_type": "code",
   "execution_count": null,
   "metadata": {},
   "outputs": [],
   "source": [
    "\n",
    "\n",
    "\n",
    "\n",
    "\n"
   ]
  },
  {
   "cell_type": "markdown",
   "metadata": {},
   "source": [
    "---\n",
    "\n",
    "## Question 3: HRRR Wind Chill\n",
    "- Load HRRR temperature, U and V wind speed components (UGRD and VGRD), and LAND datasets\n",
    "- Compute the wind speed from U and V wind components\n",
    "    - np.sqrt(np.square(U['value']) + np.square(V['value']))\n",
    "- Convert wind speed from m/s to mph\n",
    "- Convert temperature form Kelvin to Fahrenheit.\n",
    "- Compute the wind chill for the domain\n",
    "- Plot a map of the differece between the wind chill and the actual air temperature (`WindChill-Fahrenheit`), but only where the wind chill is less than the actual temperature. Include the boundary between land and water."
   ]
  },
  {
   "cell_type": "code",
   "execution_count": null,
   "metadata": {},
   "outputs": [],
   "source": [
    "# Load data\n",
    "T = np.load('./data/HRRR_F00_20181010-1400_TMP-2-m.npy').item()\n",
    "U = np.load('./data/HRRR_F00_20181010-1400_UGRD-10-m.npy').item()\n",
    "V = np.load('./data/HRRR_F00_20181010-1400_VGRD-10-m.npy').item()\n",
    "LAND = np.load('./data/HRRR_F00_20181010-1400_LAND-WATER.npy').item()"
   ]
  },
  {
   "cell_type": "code",
   "execution_count": null,
   "metadata": {},
   "outputs": [],
   "source": [
    "# Convert T from Kelvin to Fahrenheit\n",
    "\n",
    "# Convert U and V components to wind speed magnitude\n",
    "\n",
    "# Convert wind speed from m/s to mph\n"
   ]
  },
  {
   "cell_type": "code",
   "execution_count": 77,
   "metadata": {},
   "outputs": [],
   "source": [
    "# Calculate wind chill\n"
   ]
  },
  {
   "cell_type": "markdown",
   "metadata": {},
   "source": [
    "Since wind chill always decrease the apparent temperature, you should set the wind chill value as nan for all places where the wind chill is greater than F. Use a mask or set values above actual temperature as np.nan.\n",
    "    \n",
    "    WindChill[WindChill > F] = np.nan\n"
   ]
  },
  {
   "cell_type": "code",
   "execution_count": 83,
   "metadata": {},
   "outputs": [],
   "source": [
    "# Mask wind chill values where wind chill is greater than the actual temperature.\n"
   ]
  },
  {
   "cell_type": "code",
   "execution_count": 85,
   "metadata": {},
   "outputs": [],
   "source": [
    "# Make the plot\n",
    "\n"
   ]
  },
  {
   "cell_type": "markdown",
   "metadata": {},
   "source": [
    "Check your answer...\n",
    "\n",
    "![](./images/wind_chill_assignment.png)"
   ]
  },
  {
   "cell_type": "markdown",
   "metadata": {},
   "source": [
    "---\n",
    "\n",
    "## Question 4: Great Salt Lake level\n",
    "Measures of the level of the Great Salt Lake have been recorded since 1896 and is available in the file `./data/gsl_yr.csv`. \n",
    "\n",
    "The first column is the year, the second column is the number of days used to average the lake level, and the third column is the average lake level for that year.\n",
    "\n",
    "Answer the following:\n",
    "- Load the data\n",
    "- Plot the data base on year: `plt.plot(x, y)\n",
    "- What was the highest lake level and what year did that occur? Add a blue star to the plot to indicate the year and level.\n",
    "- What was the lowest lake level and what year did that occur? Add a red star to the plot to indicate the year and level.\n",
    "- What is the average lake level? How many years during the period of record were above average?\n"
   ]
  },
  {
   "cell_type": "code",
   "execution_count": null,
   "metadata": {},
   "outputs": [],
   "source": [
    "\n",
    "\n",
    "\n"
   ]
  },
  {
   "cell_type": "code",
   "execution_count": null,
   "metadata": {},
   "outputs": [],
   "source": []
  }
 ],
 "metadata": {
  "kernelspec": {
   "display_name": "Python 3",
   "language": "python",
   "name": "python3"
  },
  "language_info": {
   "codemirror_mode": {
    "name": "ipython",
    "version": 3
   },
   "file_extension": ".py",
   "mimetype": "text/x-python",
   "name": "python",
   "nbconvert_exporter": "python",
   "pygments_lexer": "ipython3",
   "version": "3.7.0"
  }
 },
 "nbformat": 4,
 "nbformat_minor": 2
}
