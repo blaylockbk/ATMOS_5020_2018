{
 "cells": [
  {
   "cell_type": "markdown",
   "metadata": {},
   "source": [
    "# Using Python Notebooks & Jupyter Lab Environment\n",
    "\n",
    "- For the rest of the Python portion of the class, we'll use Python notebooks to\n",
    "allow for more interactive exploration of programming\n",
    "- Look in the utilities menu for Jupyter Lab\n",
    "- See https://jupyterlab.readthedocs.io/en/stable/getting_started/overview.html for the documentation\n",
    "- This particular notebook and the others for each day will be located in https://github.com/johnhorel/ATMOS_5020_2018"
   ]
  },
  {
   "cell_type": "markdown",
   "metadata": {},
   "source": [
    "# Accessing a notebook in Jupyter Lab\n",
    "- You've already used the class github repository to view class notes saved as markdown files\n",
    "- A _notebook_ is an interactive document containing code, text, output, and graphics\n",
    "- the standard suffix for a notebook is 'ipynb' \n",
    "- from the class github repository, you can pull down a notebook\n",
    "- we will use the Jupyter Lab environment to simplify accessing notebooks as well as other python tools\n",
    "- We will use Jupyter Lab on your Mac in a browser: localhost:8890/lab"
   ]
  },
  {
   "cell_type": "markdown",
   "metadata": {},
   "source": [
    "# Let's get started!\n",
    "- pull this file oct30_2018.ipynb from the class repository to your Desktop\n",
    "- navigate in Jupyter Lab to your Desktop\n",
    "- let's not modify that original file. So select `save as` from the file menu and save the file to a different name, such as oct30_inclass.ipynb\n",
    "- Familiarize yourself with the variaous menus in Jupyter Lab"
   ]
  },
  {
   "cell_type": "markdown",
   "metadata": {},
   "source": [
    "# try out a few basic things"
   ]
  },
  {
   "cell_type": "code",
   "execution_count": 72,
   "metadata": {},
   "outputs": [
    {
     "name": "stdout",
     "output_type": "stream",
     "text": [
      "Hello, world!\n"
     ]
    }
   ],
   "source": [
    "#this is almost obligatory to do\n",
    "#After typing, hit the keys Shift-Enter to execute this command\n",
    "print('Hello, world!')"
   ]
  },
  {
   "cell_type": "code",
   "execution_count": 73,
   "metadata": {},
   "outputs": [],
   "source": [
    "# while you can have many lines of code in a cell, only the last one will automatically print to the screen\n",
    "a = 1\n",
    "b = 2"
   ]
  },
  {
   "cell_type": "code",
   "execution_count": 74,
   "metadata": {},
   "outputs": [
    {
     "data": {
      "text/plain": [
       "2"
      ]
     },
     "execution_count": 74,
     "metadata": {},
     "output_type": "execute_result"
    }
   ],
   "source": [
    "a\n",
    "b"
   ]
  },
  {
   "cell_type": "code",
   "execution_count": 75,
   "metadata": {},
   "outputs": [
    {
     "name": "stdout",
     "output_type": "stream",
     "text": [
      "the value of a is: 1\n",
      "the value of b is: 2\n"
     ]
    }
   ],
   "source": [
    "print('the value of a is:',a)\n",
    "print('the value of b is:',b)"
   ]
  },
  {
   "cell_type": "code",
   "execution_count": 76,
   "metadata": {},
   "outputs": [
    {
     "data": {
      "text/plain": [
       "float"
      ]
     },
     "execution_count": 76,
     "metadata": {},
     "output_type": "execute_result"
    }
   ],
   "source": [
    "#make a a float and verify it's type\n",
    "a = 1.5\n",
    "type(a)"
   ]
  },
  {
   "cell_type": "code",
   "execution_count": 77,
   "metadata": {},
   "outputs": [
    {
     "data": {
      "text/plain": [
       "\u001b[1;31mType:\u001b[0m        float\n",
       "\u001b[1;31mString form:\u001b[0m 1.5\n",
       "\u001b[1;31mDocstring:\u001b[0m  \n",
       "float(x) -> floating point number\n",
       "\n",
       "Convert a string or number to a floating point number, if possible.\n"
      ]
     },
     "metadata": {},
     "output_type": "display_data"
    }
   ],
   "source": [
    "# object introspection: the question mark can be used to obtain more info on an object and explain a bit more\n",
    "a?"
   ]
  },
  {
   "cell_type": "code",
   "execution_count": 78,
   "metadata": {},
   "outputs": [
    {
     "name": "stdout",
     "output_type": "stream",
     "text": [
      "---------\n",
      "-20.0 -4.0\n",
      "-16.0 3.1999999999999993\n",
      "-12.0 10.399999999999999\n",
      "-8.0 17.6\n",
      "-4.0 24.8\n",
      "0.0 32.0\n",
      "4.0 39.2\n",
      "8.0 46.4\n",
      "12.0 53.6\n",
      "16.0 60.8\n",
      "20.0 68.0\n",
      "24.0 75.2\n",
      "28.0 82.4\n",
      "32.0 89.6\n",
      "36.0 96.8\n",
      "40.0 104.0\n",
      "---------\n"
     ]
    }
   ],
   "source": [
    "# let's do something just slightly more interesting\n",
    "# compute the conversion of Celsius to Farhenheit for the range of values \n",
    "# between -20 and 40 C at 5 C intervals\n",
    "print ('---------')\n",
    "# assign value to variable c\n",
    "c = -20.\n",
    "# assign the increment, dc, to add to the values of c\n",
    "dc = 4.\n",
    "# determine the value of the temperature in F for each whole degree C\n",
    "while c <= 40:\n",
    "    f = (9./5.)*c+32.\n",
    "    print (c,f)\n",
    "    c = c + dc\n",
    "print ('---------')"
   ]
  },
  {
   "cell_type": "markdown",
   "metadata": {},
   "source": [
    "# Looping\n",
    "- `while`: execute a block of code as long as a condition is met\n",
    "``` \n",
    "while condition:\n",
    "    [code block]\n",
    "    ```"
   ]
  },
  {
   "cell_type": "code",
   "execution_count": 79,
   "metadata": {},
   "outputs": [
    {
     "name": "stdout",
     "output_type": "stream",
     "text": [
      "---------\n",
      "0.0 32.0\n",
      "4.0 39.2\n",
      "8.0 46.4\n",
      "12.0 53.6\n",
      "16.0 60.8\n",
      "20.0 68.0\n",
      "24.0 75.2\n",
      "28.0 82.4\n",
      "32.0 89.6\n",
      "36.0 96.8\n",
      "40.0 104.0\n",
      "---------\n"
     ]
    }
   ],
   "source": [
    "#let's not print out any values less than 0C\n",
    "print ('---------')\n",
    "# initialize first value of c\n",
    "c = -20.\n",
    "# define the increment, dc, to add to the values of c\n",
    "dc = 4.\n",
    "# determine the value of the temperature in F for each whole degree C\n",
    "while c <= 40:\n",
    "    f = (9./5.)*c+32.\n",
    "    if (c>=0.):\n",
    "        print (c,f)\n",
    "    c = c + dc\n",
    "print ('---------')"
   ]
  },
  {
   "cell_type": "markdown",
   "metadata": {},
   "source": [
    "# Conditional statement\n",
    "`if`: execute a block of code only if a condition is true\n",
    "```\n",
    "if condition:\n",
    "    [code block]\n",
    "    \n",
    "multiple conditions\n",
    "if condition 1:\n",
    "    [code block]\n",
    "elif condition 2:\n",
    "    [code block]\n",
    "else:\n",
    "    [default code block if no condition is true]\n",
    "```"
   ]
  },
  {
   "cell_type": "markdown",
   "metadata": {},
   "source": [
    "# Comparison operators\n",
    "- comparison operators return Boolean values of True or False\n",
    "- You can compare integer, floats, and strings\n",
    "\n",
    "|Description|Operator|\n",
    "|--|--|\n",
    "|Equal to| == |\n",
    "| Not equal to | != |\n",
    "| Less than | < |\n",
    "| Greater than | > |\n",
    "| Greater than or equal to | >= |\n",
    "| Less than or equal to | <= |\n",
    "\n"
   ]
  },
  {
   "cell_type": "code",
   "execution_count": 80,
   "metadata": {},
   "outputs": [
    {
     "name": "stdout",
     "output_type": "stream",
     "text": [
      "---------\n",
      "C= -20.0 C, F=  -4.0 F\n",
      "C= -16.0 C, F=   3.2 F\n",
      "C= -12.0 C, F=  10.4 F\n",
      "C=  -8.0 C, F=  17.6 F\n",
      "C=  -4.0 C, F=  24.8 F\n",
      "C=   0.0 C, F=  32.0 F\n",
      "C=   4.0 C, F=  39.2 F\n",
      "C=   8.0 C, F=  46.4 F\n",
      "C=  12.0 C, F=  53.6 F\n",
      "C=  16.0 C, F=  60.8 F\n",
      "C=  20.0 C, F=  68.0 F\n",
      "C=  24.0 C, F=  75.2 F\n",
      "C=  28.0 C, F=  82.4 F\n",
      "C=  32.0 C, F=  89.6 F\n",
      "C=  36.0 C, F=  96.8 F\n",
      "C=  40.0 C, F= 104.0 F\n",
      "---------\n"
     ]
    }
   ],
   "source": [
    "# cleaner printing using string modulus\n",
    "print ('---------')\n",
    "\n",
    "#initialize first value of c\n",
    "c = -20.\n",
    "\n",
    "#define the increment, dc, to add to the values of c\n",
    "dc = 4.\n",
    "\n",
    "#determine the value of the temperature in F for each whole degree C\n",
    "while c <= 40: \n",
    "    f = (9./5.)*c+32.\n",
    "    print (\"C=%6.1f C, F=%6.1f F\" % (c,f)) \n",
    "    c = c + dc \n",
    "    \n",
    "print ('---------')"
   ]
  },
  {
   "cell_type": "markdown",
   "metadata": {},
   "source": [
    "# Modules\n",
    "- modules are collections of statements including functions and constants\n",
    "- the name of the module is the name of the file in which it is stored\n",
    "- in order to use a module it must be imported\n",
    "- to simplify referencing content in a module, an alias can be used\n",
    "- numpy and matplotlib are used heavily\n",
    "- you must import the module once in your code prior to using any content of the module"
   ]
  },
  {
   "cell_type": "code",
   "execution_count": 81,
   "metadata": {},
   "outputs": [],
   "source": [
    "# import numerical python as numpy module and use the alias np\n",
    "import numpy as np\n",
    "# matplotlib.pyplot module provides plotting capabilities \n",
    "import matplotlib.pyplot as plt"
   ]
  },
  {
   "cell_type": "markdown",
   "metadata": {},
   "source": [
    "# Vector (1-d array)\n",
    "- the numpy linspace function allows the user to specify beginning, ending, and number of values over that range to create a list (or 1-d vector)"
   ]
  },
  {
   "cell_type": "code",
   "execution_count": 84,
   "metadata": {},
   "outputs": [
    {
     "name": "stdout",
     "output_type": "stream",
     "text": [
      "c_vec [-20. -16. -12.  -8.  -4.   0.   4.   8.  12.  16.  20.  24.  28.  32.\n",
      "  36.  40.]\n",
      "f_vec [ -4.    3.2  10.4  17.6  24.8  32.   39.2  46.4  53.6  60.8  68.   75.2\n",
      "  82.4  89.6  96.8 104. ]\n"
     ]
    }
   ],
   "source": [
    "# initialize a vector with values from -20 to 40 using 16 values (4 C spacing)\n",
    "c_vec = np.linspace(-20.,40.,16)\n",
    "# compute values for each element of the vector c_vec\n",
    "f_vec = (9./5.)*c_vec+32.\n",
    "print ('c_vec',c_vec)\n",
    "print ('f_vec',f_vec)\n"
   ]
  },
  {
   "cell_type": "markdown",
   "metadata": {},
   "source": [
    "# Plotting vectors\n",
    "- visualizing environmental information is critical\n",
    "- matplotlib provides many ways to plot data\n",
    "- pyplot is a submodule to handle basic 1-D line plots"
   ]
  },
  {
   "cell_type": "code",
   "execution_count": 85,
   "metadata": {},
   "outputs": [
    {
     "data": {
      "text/plain": [
       "Text(0,0.5,'F')"
      ]
     },
     "execution_count": 85,
     "metadata": {},
     "output_type": "execute_result"
    },
    {
     "data": {
      "image/png": "[encoded data removed]",
      "text/plain": [
       "<Figure size 432x288 with 1 Axes>"
      ]
     },
     "metadata": {},
     "output_type": "display_data"
    }
   ],
   "source": [
    "plt.plot(c_vec,f_vec)\n",
    "plt.xlabel('Celsius')\n",
    "plt.ylabel('Farenheit')"
   ]
  },
  {
   "cell_type": "markdown",
   "metadata": {},
   "source": [
    "# Handling arrays\n",
    "- we'll discuss numpy arrays in more detail later\n",
    "- arrays have a shape (dimensions) that can be determined using the numpy shape function"
   ]
  },
  {
   "cell_type": "code",
   "execution_count": 87,
   "metadata": {},
   "outputs": [
    {
     "name": "stdout",
     "output_type": "stream",
     "text": [
      "(16,)\n"
     ]
    },
    {
     "data": {
      "text/plain": [
       "16"
      ]
     },
     "execution_count": 87,
     "metadata": {},
     "output_type": "execute_result"
    }
   ],
   "source": [
    "#let's create a 2-dimensional array with the first column being temperatures in C, and second column is temps in F\n",
    "#first get shape of c_vec, which is 1-D\n",
    "c_len = np.shape(c_vec)\n",
    "#show what c_len is\n",
    "print(c_len)\n",
    "# show what is the first element in the vector. That is the number of rows\n",
    "c_len[0]"
   ]
  },
  {
   "cell_type": "code",
   "execution_count": 88,
   "metadata": {},
   "outputs": [
    {
     "name": "stdout",
     "output_type": "stream",
     "text": [
      "[[-20.   -4. ]\n",
      " [-16.    3.2]\n",
      " [-12.   10.4]\n",
      " [ -8.   17.6]\n",
      " [ -4.   24.8]\n",
      " [  0.   32. ]\n",
      " [  4.   39.2]\n",
      " [  8.   46.4]\n",
      " [ 12.   53.6]\n",
      " [ 16.   60.8]\n",
      " [ 20.   68. ]\n",
      " [ 24.   75.2]\n",
      " [ 28.   82.4]\n",
      " [ 32.   89.6]\n",
      " [ 36.   96.8]\n",
      " [ 40.  104. ]]\n"
     ]
    },
    {
     "data": {
      "text/plain": [
       "[<matplotlib.lines.Line2D at 0x23cdc2703c8>]"
      ]
     },
     "execution_count": 88,
     "metadata": {},
     "output_type": "execute_result"
    },
    {
     "data": {
      "image/png": "[encoded data removed]",
      "text/plain": [
       "<Figure size 432x288 with 1 Axes>"
      ]
     },
     "metadata": {},
     "output_type": "display_data"
    }
   ],
   "source": [
    "# initialize a 2-d array with c_len[0] rows and 2 columns\n",
    "temper = np.zeros(shape=(c_len[0],2))\n",
    "#fill the first column with the temperatures in C\n",
    "temper[:,0] = c_vec\n",
    "#fill the second column with the temperatures in F\n",
    "temper[:,1] = f_vec\n",
    "#view what the 2-d array looks like\n",
    "print(temper)\n",
    "#plot the C vs F temperature values\n",
    "# note that we are plotting all rows by using : for the row index and then the 1st and 2nd columns\n",
    "plt.plot(temper[:,0],temper[:,1])"
   ]
  },
  {
   "cell_type": "code",
   "execution_count": null,
   "metadata": {},
   "outputs": [],
   "source": []
  }
 ],
 "metadata": {
  "kernelspec": {
   "display_name": "Python 3",
   "language": "python",
   "name": "python3"
  },
  "language_info": {
   "codemirror_mode": {
    "name": "ipython",
    "version": 3
   },
   "file_extension": ".py",
   "mimetype": "text/x-python",
   "name": "python",
   "nbconvert_exporter": "python",
   "pygments_lexer": "ipython3",
   "version": "3.6.5"
  }
 },
 "nbformat": 4,
 "nbformat_minor": 2
}
