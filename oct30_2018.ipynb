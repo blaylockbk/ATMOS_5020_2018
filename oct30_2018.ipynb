{
 "cells": [
  {
   "cell_type": "markdown",
   "metadata": {},
   "source": [
    "# Using Python Notebooks & Jupyter Lab Environment\n",
    "\n",
    "- For the rest of the Python portion of the class, we'll use Python notebooks to\n",
    "allow for more interactive exploration of programming\n",
    "- Look in the utilities menu for Jupyter Lab\n",
    "- See https://jupyterlab.readthedocs.io/en/stable/getting_started/overview.html for the documentation\n",
    "- This particular notebook and the others for each day will be located in https://github.com/johnhorel/ATMOS_5020_2018"
   ]
  },
  {
   "cell_type": "markdown",
   "metadata": {},
   "source": [
    "# Accessing a notebook and Jupyter Lab\n",
    "- You've already used the class github repository to view class notes saved as markdown files\n",
    "- A _notebook_ is an interactive document containing code, text, output, and graphics\n",
    "- the standard suffix for a notebook is 'ipynb' \n",
    "- from the class github repository, you can pull down a notebook\n",
    "- we will use the Jupyter Lab environment to simplify accessing notebooks as well as other python tools\n"
   ]
  }
 ],
 "metadata": {
  "kernelspec": {
   "display_name": "Python 3",
   "language": "python",
   "name": "python3"
  },
  "language_info": {
   "codemirror_mode": {
    "name": "ipython",
    "version": 3
   },
   "file_extension": ".py",
   "mimetype": "text/x-python",
   "name": "python",
   "nbconvert_exporter": "python",
   "pygments_lexer": "ipython3",
   "version": "3.6.5"
  }
 },
 "nbformat": 4,
 "nbformat_minor": 2
}
