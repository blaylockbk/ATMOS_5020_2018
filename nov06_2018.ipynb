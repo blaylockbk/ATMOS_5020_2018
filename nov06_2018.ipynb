{
 "cells": [
  {
   "cell_type": "markdown",
   "metadata": {},
   "source": [
    "**November 6, 2018**  \n",
    "**ATMOS 5020: Environmental Programming**  \n",
    "**John Horel & Brian Blaylock**\n",
    "\n",
    "\n",
    "# Using Python Notebooks & Jupyter Lab Environment\n",
    "For the rest of the Python portion of the class, we will use Python Notebooks to allow for even more interactive exploration of programming.\n",
    "\n",
    "A _notebook_ is an interactive document containing code, output, graphics, and text (markdown). The standard suffix for a notebook is `ipynb` short for \"interactive python notebook\" (in case you were wondering). This document you are reading now is written in a Python Notebook. We will use the Jupyter Lab environment to simplify viewing notebooks, running Python code, and accessing other Python tools.\n",
    "\n",
    "If you look at a notebook file using a text editor, it will look odd with a lot of formatting structure. That is because a notebook is written as a JSON file. Don't sweat this detail now, but for reference: https://www.json.org/. JSON documents contain text, source code, rich media output, and metadata. Each segment of the document is stored in a cell. More to follow on JSON later.\n",
    "\n",
    "You have already used the class Github repository to view class notes saved as markdown files. This notebook, and others used in class each day, can be downloaded from the repository: https://github.com/johnhorel/ATMOS_5020_2018.\n",
    "\n",
    "<strike>On the library Mac computers, look in the utilities menu for `Jupyter Lab`.  \n",
    "We will use Jupyter Lab on your Mac in a browser: `localhost:8890/lab`.</strike>\n"
   ]
  },
  {
   "cell_type": "markdown",
   "metadata": {},
   "source": [
    "## How to open Jupyter Lab on the library macs...\n",
    "\n",
    "By default, the library macs use _Python 2_, but **we use Python 3**. We need to open the Python3 version of Jupyter Lab, _not_ Python2.\n",
    "\n",
    "If you type **`which jupyter`**, the mac will say **`/usr/local/python/anaconda2/bin/jupyter`**. We can simply replace `anaconda2` with `anaconda3` to get the right verion of Jupyter open.\n",
    "\n",
    "To use the Python3 version of **Jupyter Lab**, simply type in the termianl:\n",
    "\n",
    "    /usr/local/python/anaconda3/bin/jupyter lab\n",
    "    \n",
    "The Jupyter Lab environment will open in a browser window.\n",
    "\n",
    "> Note: If you installed the Anaconda or Miniconda build of Python, you can access Jupyter Labs by typing `jupyter lab` in the terminal (Mac) or PowerShell (Windows).\n",
    "\n",
    "[Reference: Jupyter Lab Documentation](https://jupyterlab.readthedocs.io/en/stable/getting_started/overview.html)    "
   ]
  },
  {
   "cell_type": "markdown",
   "metadata": {},
   "source": [
    "# Let's get started!\n",
    "Pull this file, `oct30_2018.ipynb`, from the class repository to your Desktop. \n",
    "    \n",
    "    Right click the `raw` button at the top and save the file to your desktop.\n",
    "\n",
    "or, grab everything in the class repository again. Type in the terminal...\n",
    "\n",
    "    git clone https://github.com/johnhorel/ATMOS_5020_2018\n",
    "\n",
    "2. Let's not modify that original file. So select `save as` from the file menu and save the file as a different name, such as `oct30_inclass.ipynb`.\n",
    "1. Navigate in Jupyter Lab to your Desktop.\n",
    "3. Familiarize yourself with the variaous menus in Jupyter Lab\n",
    "    - How do you select a cell?\n",
    "    - How do you edit a cell?\n",
    "    - How do you run code in a cell?\n",
    "    - How do you create a new cell?\n",
    "    - How do you change a cell from \"code\" to \"markdown\", and vice versa?\n",
    "    - etc."
   ]
  },
  {
   "cell_type": "markdown",
   "metadata": {},
   "source": [
    "# Try out a few basic things\n",
    "After typing, hit the keys `Shift+Enter` to execute this command. The `*` to left indicates the code is running. A number indicated that the code completed and what order the code completed in."
   ]
  },
  {
   "cell_type": "code",
   "execution_count": null,
   "metadata": {},
   "outputs": [],
   "source": [
    "# This is almost obligatory to do...\n",
    "print('Hello, world!')"
   ]
  },
  {
   "cell_type": "code",
   "execution_count": null,
   "metadata": {},
   "outputs": [],
   "source": [
    "# While you can have many lines of code in a cell, only the last one will automatically print to the screen\n",
    "a = 1\n",
    "b = 2"
   ]
  },
  {
   "cell_type": "code",
   "execution_count": null,
   "metadata": {},
   "outputs": [],
   "source": [
    "a\n",
    "b"
   ]
  },
  {
   "cell_type": "code",
   "execution_count": null,
   "metadata": {},
   "outputs": [],
   "source": [
    "# You use the print() function to show both values\n",
    "print('the value of a is:',a)\n",
    "print('the value of b is:',b)"
   ]
  },
  {
   "cell_type": "code",
   "execution_count": null,
   "metadata": {},
   "outputs": [],
   "source": [
    "# Make a a float, and then verify its type\n",
    "a = 1.5\n",
    "type(a)"
   ]
  },
  {
   "cell_type": "code",
   "execution_count": null,
   "metadata": {},
   "outputs": [],
   "source": [
    "# Object introspection: The question mark can be used to obtain more info on an object and explain a bit more\n",
    "a?"
   ]
  },
  {
   "cell_type": "code",
   "execution_count": null,
   "metadata": {},
   "outputs": [],
   "source": [
    "# let's do something just slightly more interesting\n",
    "# compute the conversion of Celsius to Farhenheit for the range of values \n",
    "# between -20 and 40 C at 5 C intervals\n",
    "\n",
    "print ('---------')\n",
    "# assign value to variable c\n",
    "c = -20.\n",
    "# assign the increment, dc, to add to the values of c\n",
    "dc = 4.\n",
    "# determine the value of the temperature in F for each whole degree C\n",
    "while c <= 40:\n",
    "    f = (9./5.)*c+32.\n",
    "    print (c,f)\n",
    "    c = c + dc\n",
    "print ('---------')"
   ]
  },
  {
   "cell_type": "markdown",
   "metadata": {},
   "source": [
    "# Looping\n",
    "\n",
    "## While Loop\n",
    "`while`: execute a block of code as long as a condition is met\n",
    "\n",
    "While loop syntax:\n",
    "\n",
    "    while [condition to check]:\n",
    "        [code block]"
   ]
  },
  {
   "cell_type": "code",
   "execution_count": null,
   "metadata": {},
   "outputs": [],
   "source": [
    "#let's not print out any values less than 0C\n",
    "print ('---------')\n",
    "# initialize first value of c\n",
    "c = -20.\n",
    "# define the increment, dc, to add to the values of c\n",
    "dc = 4.\n",
    "# determine the value of the temperature in F for each whole degree C\n",
    "while c <= 40:\n",
    "    f = (9./5.)*c+32.\n",
    "    if (c>=0.):\n",
    "        print (c,f)\n",
    "    c = c + dc\n",
    "print ('---------')"
   ]
  },
  {
   "cell_type": "markdown",
   "metadata": {},
   "source": [
    "Don't forget about the **for loop** from the last set of note!\n",
    "\n",
    "## For Loop\n",
    "\n",
    "For loop syntax:\n",
    "\n",
    "    for [variable to iterate] in [sequence]:\n",
    "        [do this code]"
   ]
  },
  {
   "cell_type": "code",
   "execution_count": null,
   "metadata": {},
   "outputs": [],
   "source": [
    "for c in range(-10, 50, 5):\n",
    "    f = (9./5.)*c+32.\n",
    "    if (c>=0.):\n",
    "        print (c,f)\n",
    "    c = c + dc\n",
    "print ('---------')"
   ]
  },
  {
   "cell_type": "markdown",
   "metadata": {},
   "source": [
    "# Conditional statement\n",
    "`if`: execute a block of code only if a condition is true\n",
    "\n",
    "    if condition:\n",
    "        [code block]\n",
    "    \n",
    "multiple conditions\n",
    "    \n",
    "    if condition 1:\n",
    "        [code block]\n",
    "    elif condition 2:\n",
    "        [code block]\n",
    "    else:\n",
    "        [default code block if no condition is true]"
   ]
  },
  {
   "cell_type": "markdown",
   "metadata": {},
   "source": [
    "# Comparison operators\n",
    "- comparison operators return Boolean values of True or False\n",
    "- You can compare integer, floats, and strings\n",
    "\n",
    "\n",
    "|Description|Operator|\n",
    "|--|--|\n",
    "|Equal to| == |\n",
    "| Not equal to | != |\n",
    "| Less than | < |\n",
    "| Greater than | > |\n",
    "| Greater than or equal to | >= |\n",
    "| Less than or equal to | <= |\n",
    "\n"
   ]
  },
  {
   "cell_type": "code",
   "execution_count": null,
   "metadata": {},
   "outputs": [],
   "source": [
    "# cleaner printing using string modulus\n",
    "print ('---------')\n",
    "\n",
    "#initialize first value of c\n",
    "c = -20.\n",
    "\n",
    "#define the increment, dc, to add to the values of c\n",
    "dc = 4.\n",
    "\n",
    "#determine the value of the temperature in F for each whole degree C\n",
    "while c <= 40: \n",
    "    f = (9./5.)*c+32.\n",
    "    print (\"C=%6.1f C, F=%6.1f F\" % (c,f)) \n",
    "    c = c + dc \n",
    "    \n",
    "print ('---------')"
   ]
  },
  {
   "cell_type": "markdown",
   "metadata": {},
   "source": [
    "# Functions\n",
    "\n",
    "Functions are blocks of code that perform actions. They typically take input, do something with the input, and send out output.\n",
    "\n",
    "    def function_name(input):\n",
    "        [do something...]\n",
    "        return output\n",
    "        \n",
    "For example, if we wanted to write a function that converted the temperature from C to F:"
   ]
  },
  {
   "cell_type": "code",
   "execution_count": null,
   "metadata": {},
   "outputs": [],
   "source": [
    "def CtoF(C):\n",
    "    F = (9/5)*C + 32\n",
    "    return F\n",
    "\n",
    "# Use the function to convert a value form C to F\n",
    "print(CtoF(0), 'F')\n",
    "print(CtoF(5), 'F')\n",
    "print(CtoF(10), 'F')\n",
    "print()\n",
    "\n",
    "# Use the function to convert all values in a list\n",
    "for c in range(-10, 50, 5):\n",
    "    print('%s C is equal to %s F' % (c, CtoF(c)))\n",
    "print ('---------')"
   ]
  },
  {
   "cell_type": "markdown",
   "metadata": {},
   "source": [
    "---\n",
    "\n",
    "# How do you apply math operators to a list?"
   ]
  },
  {
   "cell_type": "code",
   "execution_count": null,
   "metadata": {},
   "outputs": [],
   "source": [
    "# Say that we have a list of numbers and we want to multiply all of them by 2.\n",
    "some_numbers = [1,2,50,43]\n",
    "some_numbers*2"
   ]
  },
  {
   "cell_type": "markdown",
   "metadata": {},
   "source": [
    "Wait! That is not what we want! Do you see what happened?\n",
    "Instead of multiplying all the elements by 2, we now have 2 copies of the list.\n",
    "\n",
    "We need to use a **module** called `numpy` to do this sort of array manipulation."
   ]
  },
  {
   "cell_type": "markdown",
   "metadata": {},
   "source": [
    "# Modules\n",
    "Modules are collections of statements that include pre-built functions and constants. The name of the module is the name of the file in which it is stored. \n",
    "\n",
    "Before you can use a module it must be imported. You must import the module once in your code prior to using any content of the module. This is typically done at the begining of a script.\n",
    "\n",
    "    import [module name]\n",
    "\n",
    "To simplify referencing content in a module, an **alias** can be used. Although you can choose the alias, there are some well adopted conventions for some of the widley used modules.\n",
    "\n",
    "    import [module name] as [alias]\n",
    "\n",
    "`numpy` and `matplotlib` are two heavily-used modules. "
   ]
  },
  {
   "cell_type": "markdown",
   "metadata": {},
   "source": [
    "## numpy\n",
    "\n",
    "NumPy is short for \"Numerical Python\" and is used for array manipulation and general math operations.\n",
    "\n",
    "To import numpy you could do\n",
    "\n",
    "    import numpy\n",
    "    \n",
    "but we want to assign it to an alysis so we don't have to type `numpy` every time we want to use it."
   ]
  },
  {
   "cell_type": "code",
   "execution_count": null,
   "metadata": {},
   "outputs": [],
   "source": [
    "# Import numerical python as numpy module and use the alias np'\n",
    "import numpy as np"
   ]
  },
  {
   "cell_type": "markdown",
   "metadata": {},
   "source": [
    "# Vector\n",
    "A **vector** is a 1-dimensional array. \n",
    "\n",
    "The numpy `linspace()` function returns evenly spaced numbers over a specified interval. It allows the user to create a vector by specifying the beginning, ending, and the number of values over that range. The resulting array is much like a standard Python list.\n",
    "\n",
    "[Reference: Numpy linespace()](https://docs.scipy.org/doc/numpy/reference/generated/numpy.linspace.html)"
   ]
  },
  {
   "cell_type": "code",
   "execution_count": null,
   "metadata": {},
   "outputs": [],
   "source": [
    "# initialize a vector with values from -20 to 40 using 16 values (4 C spacing)\n",
    "c_vec = np.linspace(-20.,40.,16)\n",
    "\n",
    "# compute values for each element of the vector c_vec\n",
    "f_vec = (9./5.)*c_vec+32.\n",
    "print('c_vec',c_vec)\n",
    "print('f_vec',f_vec)\n",
    "\n",
    "# What is the data type of c_vec?\n",
    "type(c_vec)"
   ]
  },
  {
   "cell_type": "markdown",
   "metadata": {},
   "source": [
    "We can perform math operations on numpy arrays that we couldn't do with the standard list.\n",
    "\n",
    "Objects in a numpy arrays must be the same type.\n",
    "\n",
    "    my_array = np.array([1,2,3,4,5])\n",
    "\n",
    "You can also convert a standard list to a numpy array.\n",
    "\n",
    "    my_list = [1,2,3,4]\n",
    "    my_array = np.array(my_list)"
   ]
  },
  {
   "cell_type": "markdown",
   "metadata": {},
   "source": [
    "# Plotting vectors with _matplotlib_\n",
    "Visualizing environmental information is critical. The `matplotlib` library provides plotting capabilities. `pyplot` is a submodule that provides many ways to plot data.\n",
    "\n",
    "We import `matplotlib.pyplot` with the alias `plt`\n"
   ]
  },
  {
   "cell_type": "code",
   "execution_count": null,
   "metadata": {},
   "outputs": [],
   "source": [
    "import matplotlib.pyplot as plt"
   ]
  },
  {
   "cell_type": "markdown",
   "metadata": {},
   "source": [
    "The `plt.plot()` function takes arguments for the x and y axis values.  \n",
    "The `plt.xlabel()` function addes a label on the x axis  \n",
    "The `plt.ylabel()` function addes a label on the y axis\n",
    "\n",
    "> Note: Be careful with your axis labels. If they are mis-labeled, the computer won't tell you it is wrong."
   ]
  },
  {
   "cell_type": "code",
   "execution_count": null,
   "metadata": {},
   "outputs": [],
   "source": [
    "plt.plot(c_vec, f_vec)\n",
    "plt.xlabel('Celsius')\n",
    "plt.ylabel('Farenheit')"
   ]
  },
  {
   "cell_type": "markdown",
   "metadata": {},
   "source": [
    "# Handling arrays\n",
    "- we'll discuss numpy arrays in more detail later\n",
    "- arrays have a shape (dimensions) that can be determined using the numpy `shape()` function"
   ]
  },
  {
   "cell_type": "code",
   "execution_count": null,
   "metadata": {},
   "outputs": [],
   "source": [
    "#let's create a 2-dimensional array with the first column being temperatures in C, and second column is temps in F\n",
    "#first get shape of c_vec, which is 1-D\n",
    "c_len = np.shape(c_vec)\n",
    "#show what c_len is\n",
    "print(c_len)\n",
    "# show what is the first element in the vector. That is the number of rows\n",
    "c_len[0]"
   ]
  },
  {
   "cell_type": "code",
   "execution_count": null,
   "metadata": {},
   "outputs": [],
   "source": [
    "# initialize a 2-d array with c_len[0] rows and 2 columns\n",
    "temper = np.zeros(shape=(c_len[0],2))\n",
    "#fill the first column with the temperatures in C\n",
    "temper[:,0] = c_vec\n",
    "#fill the second column with the temperatures in F\n",
    "temper[:,1] = f_vec\n",
    "#view what the 2-d array looks like\n",
    "print(temper)\n",
    "#plot the C vs F temperature values\n",
    "# note that we are plotting all rows by using : for the row index and then the 1st and 2nd columns\n",
    "plt.plot(temper[:,0],temper[:,1])"
   ]
  },
  {
   "cell_type": "markdown",
   "metadata": {},
   "source": [
    "# Sine curve\n",
    "What is changing between the graphs?"
   ]
  },
  {
   "cell_type": "code",
   "execution_count": null,
   "metadata": {},
   "outputs": [],
   "source": [
    "a = np.arange(0,10)\n",
    "b = np.sin(a)\n",
    "plt.plot(b)"
   ]
  },
  {
   "cell_type": "code",
   "execution_count": null,
   "metadata": {},
   "outputs": [],
   "source": [
    "a = np.arange(0,10, .5)\n",
    "b = np.sin(a)\n",
    "plt.plot(b)"
   ]
  },
  {
   "cell_type": "code",
   "execution_count": null,
   "metadata": {},
   "outputs": [],
   "source": [
    "a = np.arange(0,10, .1)\n",
    "b = np.sin(a)\n",
    "plt.plot(b)"
   ]
  },
  {
   "cell_type": "markdown",
   "metadata": {},
   "source": [
    "---\n",
    "\n",
    "# Extra Python Practice\n",
    "\n",
    "Read the `numpy` and `matplotlib` documentation to learn additional functions and capabilitites.\n",
    "\n",
    "- [Matplotlib Tutorial](https://matplotlib.org/tutorials/introductory/pyplot.html#sphx-glr-tutorials-introductory-pyplot-py)\n",
    "- [Numpy Tutorial](https://docs.scipy.org/doc/numpy/user/quickstart.html)\n",
    "\n",
    "**Learn something new about Numpy or Matplotlib and share it on Slack in the Python channel.**  \n",
    "When sharing the new Python trick you learned, think of how you might use it in a coding problem.\n"
   ]
  },
  {
   "cell_type": "code",
   "execution_count": null,
   "metadata": {},
   "outputs": [],
   "source": []
  }
 ],
 "metadata": {
  "kernelspec": {
   "display_name": "Python 3",
   "language": "python",
   "name": "python3"
  },
  "language_info": {
   "codemirror_mode": {
    "name": "ipython",
    "version": 3
   },
   "file_extension": ".py",
   "mimetype": "text/x-python",
   "name": "python",
   "nbconvert_exporter": "python",
   "pygments_lexer": "ipython3",
   "version": "3.7.0"
  }
 },
 "nbformat": 4,
 "nbformat_minor": 2
}
