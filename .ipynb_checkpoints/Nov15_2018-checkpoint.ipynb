{
 "cells": [
  {
   "cell_type": "markdown",
   "metadata": {},
   "source": [
    "# November 15, 2018\n",
    "Objective: Reinforce concepts related to Input operations and using numpy\n",
    "\n",
    "The last two classes focused on visualizing results, which is critical for any programming application\n",
    "in environmental fields\n",
    "\n",
    "In this class we will spend a bit of time reviewing ways to input information into a program and using numpy to handle arrays"
   ]
  },
  {
   "cell_type": "code",
   "execution_count": 469,
   "metadata": {},
   "outputs": [],
   "source": [
    "# First let's enter values interactively\n",
    "my_name = input(\"What is my name?\")"
   ]
  },
  {
   "cell_type": "code",
   "execution_count": 470,
   "metadata": {},
   "outputs": [
    {
     "data": {
      "text/plain": [
       "'john'"
      ]
     },
     "execution_count": 470,
     "metadata": {},
     "output_type": "execute_result"
    }
   ],
   "source": [
    "#so what is it?\n",
    "my_name"
   ]
  },
  {
   "cell_type": "code",
   "execution_count": 471,
   "metadata": {},
   "outputs": [],
   "source": [
    "#note that what is returned is a string\n",
    "# we have to evaluate interactive input by defining what type of variable it is\n",
    "my_address = int(input(\"what is my street address?\"))"
   ]
  },
  {
   "cell_type": "code",
   "execution_count": 472,
   "metadata": {},
   "outputs": [
    {
     "data": {
      "text/plain": [
       "1735"
      ]
     },
     "execution_count": 472,
     "metadata": {},
     "output_type": "execute_result"
    }
   ],
   "source": [
    "#so what is my address\n",
    "my_address"
   ]
  },
  {
   "cell_type": "code",
   "execution_count": 473,
   "metadata": {},
   "outputs": [
    {
     "data": {
      "text/plain": [
       "\u001b[1;31mType:\u001b[0m        int\n",
       "\u001b[1;31mString form:\u001b[0m 1735\n",
       "\u001b[1;31mDocstring:\u001b[0m  \n",
       "int(x=0) -> integer\n",
       "int(x, base=10) -> integer\n",
       "\n",
       "Convert a number or string to an integer, or return 0 if no arguments\n",
       "are given.  If x is a number, return x.__int__().  For floating point\n",
       "numbers, this truncates towards zero.\n",
       "\n",
       "If x is not a number or if base is given, then x must be a string,\n",
       "bytes, or bytearray instance representing an integer literal in the\n",
       "given base.  The literal can be preceded by '+' or '-' and be surrounded\n",
       "by whitespace.  The base defaults to 10.  Valid bases are 0 and 2-36.\n",
       "Base 0 means to interpret the base from the string as an integer literal.\n",
       ">>> int('0b100', base=0)\n",
       "4\n"
      ]
     },
     "metadata": {},
     "output_type": "display_data"
    }
   ],
   "source": [
    "#what type is my_address?\n",
    "my_address?"
   ]
  },
  {
   "cell_type": "code",
   "execution_count": 474,
   "metadata": {},
   "outputs": [],
   "source": [
    "#interactively inputting information is not only cumbersome, python won't continue through a code \n",
    "#unless a value is entered"
   ]
  },
  {
   "cell_type": "markdown",
   "metadata": {},
   "source": [
    "There is tons of information we can access directly from the web\n",
    "\n",
    "One resource is the Wyoming web site that provides access to the observations of the\n",
    "vertical distribution of wind, temp, and moisure with height at hundreds of locations\n",
    "\n",
    "Take a look at http://weather.uwyo.edu/upperair/sounding.html\n",
    "\n",
    "For example, click on SLC and you'll see something like:\n",
    "\n",
    "http://weather.uwyo.edu/cgi-bin/sounding?region=naconf&TYPE=TEXT%3ALIST&YEAR=2018&MONTH=11&FROM=1112&TO=1112&STNM=72572\n"
   ]
  },
  {
   "cell_type": "code",
   "execution_count": 475,
   "metadata": {},
   "outputs": [],
   "source": [
    "# For remote file access, use the urllib module to access cntent from a remote site and use on a local one\n",
    "import urllib\n",
    "# need the function urlretrieve from the request submodule\n",
    "from urllib.request import urlretrieve"
   ]
  },
  {
   "cell_type": "code",
   "execution_count": 476,
   "metadata": {},
   "outputs": [],
   "source": [
    "#define a string that points to the web content. There are ways to pass variables to the site, but let's not bother with that\n",
    "url_string = \"http://weather.uwyo.edu/cgi-bin/sounding?region=naconf&TYPE=TEXT%3ALIST&YEAR=2018&MONTH=11&FROM=1112&TO=1112&STNM=72572\"\n",
    "file_name, headers = urlretrieve(url_string,\"slc_snd.txt\")"
   ]
  },
  {
   "cell_type": "markdown",
   "metadata": {},
   "source": [
    "# Questions: \n",
    "- what is the content of the variables file_name and headers?\n",
    "- did you obtain a file in your local directory named slc_snd.txt?\n",
    "- What is in the slc_snd.txt file? Look at its contents."
   ]
  },
  {
   "cell_type": "code",
   "execution_count": 477,
   "metadata": {},
   "outputs": [],
   "source": [
    "#To open that file as an object:\n",
    "snd_file = open('slc_snd.txt','r')"
   ]
  },
  {
   "cell_type": "markdown",
   "metadata": {},
   "source": [
    "where:\n",
    "-  the option 'r' means the text file is open to read only\n",
    "- 'w' : file is open to write only\n",
    "- w+': output will overwrite the existing content in the file\n",
    "- 'a': output will be appended to the end of an existing file\n",
    "- 'b': indicates the file content is binary"
   ]
  },
  {
   "cell_type": "code",
   "execution_count": 478,
   "metadata": {},
   "outputs": [],
   "source": [
    "# to close the file object:\n",
    "snd_file.close()"
   ]
  },
  {
   "cell_type": "code",
   "execution_count": 479,
   "metadata": {},
   "outputs": [
    {
     "name": "stdout",
     "output_type": "stream",
     "text": [
      "['<HTML>\\n', '<TITLE>University of Wyoming - Radiosonde Data</TITLE>\\n', '<LINK REL=\"StyleSheet\" HREF=\"/resources/select.css\" TYPE=\"text/css\">\\n', '<BODY BGCOLOR=\"white\">\\n', '<H2>72572 SLC Salt Lake City Observations at 12Z 11 Nov 2018</H2>\\n', '<PRE>\\n', '-----------------------------------------------------------------------------\\n', '   PRES   HGHT   TEMP   DWPT   RELH   MIXR   DRCT   SKNT   THTA   THTE   THTV\\n', '    hPa     m      C      C      %    g/kg    deg   knot     K      K      K \\n', '-----------------------------------------------------------------------------\\n', ' 1000.0    185                                                               \\n', '  925.0    830                                                               \\n', '  875.0   1289    0.4   -4.2     71   3.22    330      5  284.2  293.5  284.7\\n', '  854.0   1480   -1.1   -5.9     70   2.89    305      7  284.6  293.1  285.1\\n', '  850.0   1517   -1.1   -6.1     69   2.86    300      7  285.0  293.4  285.5\\n', '  820.0   1803   -2.3   -6.4     73   2.90     36      1  286.6  295.2  287.2\\n', '  817.3   1829   -2.4   -6.7     72   2.84     45      1  286.8  295.2  287.3\\n', '  794.0   2058   -3.5   -9.5     63   2.35    338      8  288.0  295.1  288.4\\n', '  786.3   2134   -4.2   -9.8     65   2.32    315     10  288.1  295.1  288.5\\n', '  756.2   2438   -6.8  -11.2     71   2.17    320     13  288.5  295.1  288.9\\n', '  727.1   2743   -9.4  -12.5     78   2.02    330     16  288.9  295.1  289.3\\n', '  700.0   3039  -11.9  -13.8     86   1.89    345     12  289.3  295.1  289.6\\n', '  681.0   3249  -13.7  -15.0     90   1.76    345     12  289.6  295.0  289.9\\n', '  669.0   3384  -14.5  -17.1     81   1.50    345     13  290.1  294.8  290.4\\n', '  645.1   3658  -16.9  -19.7     79   1.25    345     13  290.5  294.4  290.7\\n', '  637.0   3753  -17.7  -20.6     78   1.17    353     13  290.6  294.3  290.8\\n', '  611.0   4064  -19.7  -21.8     83   1.10     18     15  291.8  295.3  291.9\\n', '  594.4   4267  -21.0  -24.6     73   0.88     35     16  292.5  295.4  292.7\\n', '  579.0   4461  -22.3  -27.3     64   0.71     32     17  293.2  295.6  293.4\\n', '  557.0   4745  -24.9  -31.9     52   0.48     27     19  293.4  295.0  293.5\\n', '  548.0   4863  -25.7  -30.2     66   0.57     25     20  293.9  295.8  293.9\\n', '  546.9   4877  -25.8  -30.6     64   0.55     25     20  293.9  295.7  294.0\\n', '  540.0   4969  -26.5  -33.5     52   0.42     24     20  294.1  295.6  294.2\\n', '  534.0   5050  -27.3  -32.3     62   0.48     24     21  294.1  295.7  294.2\\n', '  528.0   5131  -27.9  -35.9     46   0.34     23     21  294.3  295.5  294.4\\n', '  514.0   5324  -29.5  -39.5     37   0.24     22     21  294.7  295.5  294.7\\n', '  505.0   5449  -30.7  -39.7     41   0.24     21     22  294.7  295.6  294.8\\n', '  500.0   5520  -30.9  -41.9     33   0.19     20     22  295.3  296.0  295.3\\n', '  488.0   5692  -32.5  -44.5     29   0.15      4     20  295.4  295.9  295.4\\n', '  470.0   5957  -32.7  -53.7     10   0.05    338     17  298.3  298.6  298.4\\n', '  460.8   6096  -33.6  -56.4      8   0.04    325     15  298.8  299.0  298.9\\n', '  449.0   6278  -34.9  -59.9      6   0.03    328     16  299.5  299.6  299.5\\n', '  433.0   6531  -35.1  -61.1      5   0.02    332     18  302.4  302.5  302.4\\n', '  405.0   6994  -38.1  -62.1      6   0.02    339     20  304.3  304.4  304.3\\n', '  400.0   7080  -37.9  -61.9      6   0.02    340     21  305.6  305.8  305.7\\n', '  389.0   7271  -38.5  -62.5      6   0.02    333     21  307.3  307.4  307.3\\n', '  369.5   7620  -40.4  -63.6      7   0.02    320     20  309.4  309.4  309.4\\n', '  341.0   8165  -43.3  -65.3      7   0.02    324     23  312.6  312.6  312.6\\n', '  324.0   8509  -43.9  -66.9      6   0.01    326     24  316.3  316.4  316.3\\n', '  300.0   9020  -47.7  -67.7      8   0.01    330     27  318.0  318.1  318.0\\n', '  298.0   9064  -48.1  -68.1      8   0.01    330     28  318.1  318.1  318.1\\n', '  294.4   9144  -48.3  -68.3      8   0.01    330     27  318.9  319.0  318.9\\n', '  268.0   9763  -49.5  -69.5      8   0.01    319     29  325.8  325.9  325.8\\n', '  250.0  10220  -49.1  -74.1      4   0.01    310     30  332.9  333.0  332.9\\n', '  226.0  10885  -48.1  -79.1      2   0.00    310     32  344.2  344.2  344.2\\n', '  219.0  11093  -49.3  -80.3      1   0.00    310     33  345.5  345.5  345.5\\n', '  205.0  11527  -48.7  -79.7      2   0.00    310     34  353.0  353.0  353.0\\n', '  200.0  11690  -49.1  -80.1      2   0.00    310     35  354.9  354.9  354.9\\n', '  195.0  11856  -50.1  -81.1      1   0.00    303     34  355.8  355.9  355.8\\n', '  189.0  12060  -49.7  -81.7      1   0.00    295     32  359.7  359.7  359.7\\n', '  185.2  12192  -50.6  -82.2      1   0.00    290     31  360.2  360.2  360.2\\n', '  172.0  12671  -54.1  -84.1      1   0.00    295     46  362.2  362.2  362.2\\n', '  168.5  12802  -53.4  -83.4      1   0.00    305     53  365.5  365.5  365.5\\n', '  167.0  12861  -53.1  -83.1      1   0.00    305     52  366.9  367.0  366.9\\n', '  160.0  13136  -54.5  -83.5      2   0.00    305     49  369.1  369.1  369.1\\n', '  150.0  13550  -54.5  -82.5      2   0.00    305     45  376.0  376.0  376.0\\n', '  147.0  13679  -54.3  -82.3      2   0.00    304     43  378.5  378.5  378.5\\n', '  139.3  14021  -55.3  -83.3      2   0.00    300     36  382.6  382.6  382.6\\n', '  132.8  14326  -56.2  -84.2      2   0.00    280     46  386.3  386.3  386.3\\n', '  132.0  14366  -56.3  -84.3      2   0.00    282     47  386.7  386.8  386.7\\n', '  131.0  14414  -56.3  -84.3      2   0.00    284     47  387.6  387.6  387.6\\n', '  130.0  14463  -54.7  -83.7      2   0.00    286     48  391.3  391.3  391.3\\n', '  127.0  14612  -54.9  -83.9      2   0.00    292     50  393.6  393.6  393.6\\n', '  126.0  14663  -53.5  -83.5      1   0.00    294     51  397.0  397.0  397.0\\n', '  124.0  14765  -53.9  -83.9      1   0.00    298     53  398.1  398.1  398.1\\n', '  120.8  14935  -53.4  -84.2      1   0.00    305     55  402.0  402.0  402.0\\n', '  120.0  14976  -53.3  -84.3      1   0.00    307     54  402.9  402.9  402.9\\n', '  115.2  15240  -54.2  -84.9      1   0.00    320     45  406.0  406.0  406.0\\n', '  109.8  15545  -55.3  -85.5      1   0.00    325     35  409.5  409.5  409.5\\n', '  107.0  15710  -55.9  -85.9      1   0.00    317     30  411.4  411.4  411.4\\n', '  104.7  15850  -55.9  -86.2      1   0.00    310     26  414.0  414.0  414.0\\n', '  100.0  16140  -55.9  -86.9      1   0.00    305     33  419.4  419.5  419.4\\n', '   94.5  16500  -55.5  -86.5      1   0.00    295     30  427.1  427.1  427.1\\n', '   82.6  17351  -58.9  -87.9      1   0.00    271     21  436.9  436.9  436.9\\n', '   82.3  17374  -58.7  -87.8      1   0.00    270     21  437.8  437.8  437.8\\n', '   80.6  17505  -57.5  -87.5      1   0.00    276     24  442.8  442.8  442.8\\n', '   75.4  17924  -59.5  -88.5      1   0.00    297     35  447.1  447.2  447.1\\n', '   74.7  17983  -59.2  -88.4      1   0.00    300     36  449.0  449.0  449.0\\n', '   72.2  18196  -58.1  -88.1      1   0.00    297     31  455.7  455.7  455.7\\n', '   71.2  18288  -58.5  -88.0      1   0.00    295     29  456.8  456.8  456.8\\n', '   70.0  18390  -58.9  -87.9      1   0.00    285     28  458.0  458.1  458.0\\n', '   67.8  18593  -60.1  -88.6      1   0.00    280     33  459.7  459.7  459.7\\n', '   66.0  18757  -61.1  -89.1      1   0.00    287     31  461.0  461.0  461.0\\n', '   64.8  18871  -60.9  -88.9      1   0.00    292     30  463.9  463.9  463.9\\n', '   64.1  18939  -57.5  -87.5      1   0.00    295     30  472.8  472.8  472.8\\n', '   63.5  18999  -57.1  -88.1      1   0.00    298     29  474.9  474.9  474.9\\n', '   58.9  19474  -57.9  -87.9      1   0.00    319     24  483.4  483.5  483.4\\n', '   58.6  19507  -57.7  -87.8      1   0.00    320     24  484.6  484.6  484.6\\n', '   56.3  19760  -56.3  -87.3      1   0.00    353     15  493.4  493.4  493.4\\n', '   55.8  19812  -56.6  -87.5      1   0.00      0     13  493.9  493.9  493.9\\n', '   53.2  20117  -58.3  -88.4      1   0.00    330      6  496.8  496.8  496.8\\n', '   52.9  20153  -58.5  -88.5      1   0.00    332      6  497.1  497.1  497.1\\n', '   50.0  20510  -55.9  -87.9      1   0.00    350      8  511.3  511.3  511.3\\n', '   49.8  20535  -55.7  -87.7      1   0.00    348      8  512.4  512.4  512.4\\n', '   46.8  20927  -58.5  -88.5      1   0.00    322     10  514.8  514.9  514.8\\n', '   46.0  21031  -57.7  -88.2      1   0.00    315     11  519.1  519.1  519.1\\n', '   43.9  21336  -55.5  -87.3      1   0.00     35     18  531.8  531.8  531.8\\n', '   43.5  21389  -55.1  -87.1      1   0.00     32     18  534.0  534.1  534.0\\n', '   39.8  21946  -57.3  -88.6      1   0.00      5     17  542.2  542.2  542.2\\n', '   38.2  22210  -58.3  -89.3      1   0.00     21     17  546.1  546.1  546.1\\n', '   35.8  22620  -55.5  -87.5      1   0.01     46     16  563.5  563.6  563.6\\n', '   34.5  22860  -55.7  -87.7      1   0.01     60     16  569.1  569.2  569.1\\n', '   31.3  23470  -56.3  -88.3      1   0.01     15     29  583.5  583.6  583.5\\n', '   30.0  23740  -56.5  -88.5      1   0.01     20     24  590.0  590.1  590.0\\n', '   29.6  23825  -56.9  -88.9      1   0.00     22     24  591.2  591.2  591.2\\n', '   28.7  24023  -54.1  -87.1      1   0.01     27     23  604.2  604.2  604.2\\n', '   27.4  24321  -53.1  -86.1      1   0.01     34     22  615.0  615.1  615.0\\n', '   27.1  24384  -53.3  -86.2      1   0.01     35     22  616.1  616.2  616.1\\n', '   25.9  24689  -54.3  -86.8      1   0.01     40     22  621.7  621.8  621.7\\n', '   22.4  25603  -57.4  -88.7      1   0.01     35     35  638.6  638.6  638.6\\n', '   21.7  25811  -58.1  -89.1      1   0.01     35     31  642.5  642.5  642.5\\n', '   20.4  26213  -55.5  -87.2      1   0.01     35     22  662.2  662.3  662.2\\n', '   20.0  26330  -54.7  -86.7      1   0.01     35     22  668.0  668.1  668.0\\n', '   19.1  26625  -53.1  -86.1      1   0.01     35     23  681.8  681.9  681.8\\n', '   16.9  27406  -56.7  -88.7      1   0.01     35     27  694.5  694.6  694.5\\n', '   16.8  27432  -56.7  -88.7      1   0.01     35     27  695.2  695.3  695.2\\n', '   15.1  28118  -57.3  -89.3      1   0.01     37     27  715.2  715.3  715.2\\n', '   14.3  28464  -54.9  -86.9      1   0.01     38     27  734.5  734.7  734.5\\n', '   12.5  29316  -58.1  -90.1      1   0.01     41     26  752.1  752.2  752.1\\n', '   11.5  29846  -53.9  -86.9      1   0.02     43     26  785.3  785.5  785.3\\n', '   10.6  30368  -54.1  -87.1      1   0.02     45     26  803.0  803.3  803.1\\n', '   10.4  30480  -54.5  -87.2      1   0.02     45     26  805.5  805.8  805.5\\n', '   10.0  30740  -55.5  -87.5      1   0.02     30     27  811.3  811.5  811.3\\n', '    9.5  31090  -57.3  -89.3      1   0.01     30     32  817.3  817.5  817.3\\n', '    9.3  31200  -57.9  -89.9      1   0.01                819.2  819.4  819.2\\n', '</PRE><H3>Station information and sounding indices</H3><PRE>\\n', '                         Station identifier: SLC\\n', '                             Station number: 72572\\n', '                           Observation time: 181111/1200\\n', '                           Station latitude: 40.77\\n', '                          Station longitude: -111.95\\n', '                          Station elevation: 1289.0\\n', '                            Showalter index: 2.80\\n', '                               Lifted index: 2.51\\n', '    LIFT computed using virtual temperature: 2.47\\n', '                                SWEAT index: 147.99\\n', '                                    K index: 21.80\\n', '                         Cross totals index: 24.80\\n', '                      Vertical totals index: 29.80\\n', '                        Totals totals index: 54.60\\n', '      Convective Available Potential Energy: 0.00\\n', '             CAPE using virtual temperature: 0.00\\n', '                      Convective Inhibition: 0.00\\n', '             CINS using virtual temperature: 0.00\\n', '                     Bulk Richardson Number: 0.00\\n', '          Bulk Richardson Number using CAPV: 0.00\\n', '  Temp [K] of the Lifted Condensation Level: 266.44\\n', 'Pres [hPa] of the Lifted Condensation Level: 788.62\\n', '     Mean mixed layer potential temperature: 285.16\\n', '              Mean mixed layer mixing ratio: 2.95\\n', '              1000 hPa to 500 hPa thickness: 5335.00\\n', 'Precipitable water [mm] for entire sounding: 6.41\\n', '</PRE>\\n', '<P>Description of the \\n', '<A HREF=\"/upperair/columns.html\">data columns</A>\\n', 'or <A HREF=\"/upperair/indices.html\">sounding indices</A>.\\n', '\\n', '<P>\\n', '<FORM>\\n', '<INPUT CLASS=\"button\" TYPE=\"button\" VALUE=\" Close this window \" \\n', ' onClick=\"window.close();\">\\n', '<INPUT CLASS=\"button\" TYPE=\"button\" VALUE=\" Select another map \" \\n', ' onClick=\"window.blur();\">\\n', '</FORM>\\n', '<HR SIZE=\"1\">\\n', '<I>Interested in graduate studies in atmospheric science?\\n', 'Check out our program at the\\n', '<a href=\"http://www.uwyo.edu/atsc/howtoapply/\"\\n', 'target=_top>University of Wyoming\\n', '</a></I>\\n', '<HR SIZE=\"1\"><FONT SIZE=\"-1\">\\n', 'Questions about the weather data provided by this site can be\\n', 'addressed to <A HREF=\"mailto:ldoolman@uwyo.edu\">\\n', 'Larry Oolman (ldoolman@uwyo.edu)</A></FONT>\\n', '<HR SIZE=\"1\">\\n', '<SCRIPT TYPE=\"text/javascript\">\\n', '<!--\\n', 'window.focus();\\n', '// -->\\n', '</SCRIPT>\\n', '</BODY>\\n', '</HTML>\\n']\n"
     ]
    }
   ],
   "source": [
    "#let's open the file again and read all the content into a list\n",
    "with open('slc_snd.txt','r') as file:\n",
    "    contents = file.readlines()\n",
    "# An advantage of doing this is that the file object executes the statements in the code block\n",
    "# and then automatically closes the file object when the block is finished \n",
    "print(contents)"
   ]
  },
  {
   "cell_type": "code",
   "execution_count": 480,
   "metadata": {},
   "outputs": [
    {
     "name": "stdout",
     "output_type": "stream",
     "text": [
      "[['<HTML>', ''], ['<TITLE>University of Wyoming - Radiosonde Data</TITLE>', ''], ['<LINK REL=\"StyleSheet\" HREF=\"/resources/select.css\" TYPE=\"text/css\">', ''], ['<BODY BGCOLOR=\"white\">', ''], ['<H2>72572 SLC Salt Lake City Observations at 12Z 11 Nov 2018</H2>', ''], ['<PRE>', ''], ['-----------------------------------------------------------------------------', ''], ['   PRES   HGHT   TEMP   DWPT   RELH   MIXR   DRCT   SKNT   THTA   THTE   THTV', ''], ['    hPa     m      C      C      %    g/kg    deg   knot     K      K      K ', ''], ['-----------------------------------------------------------------------------', ''], [' 1000.0    185                                                               ', ''], ['  925.0    830                                                               ', ''], ['  875.0   1289    0.4   -4.2     71   3.22    330      5  284.2  293.5  284.7', ''], ['  854.0   1480   -1.1   -5.9     70   2.89    305      7  284.6  293.1  285.1', ''], ['  850.0   1517   -1.1   -6.1     69   2.86    300      7  285.0  293.4  285.5', ''], ['  820.0   1803   -2.3   -6.4     73   2.90     36      1  286.6  295.2  287.2', ''], ['  817.3   1829   -2.4   -6.7     72   2.84     45      1  286.8  295.2  287.3', ''], ['  794.0   2058   -3.5   -9.5     63   2.35    338      8  288.0  295.1  288.4', ''], ['  786.3   2134   -4.2   -9.8     65   2.32    315     10  288.1  295.1  288.5', ''], ['  756.2   2438   -6.8  -11.2     71   2.17    320     13  288.5  295.1  288.9', ''], ['  727.1   2743   -9.4  -12.5     78   2.02    330     16  288.9  295.1  289.3', ''], ['  700.0   3039  -11.9  -13.8     86   1.89    345     12  289.3  295.1  289.6', ''], ['  681.0   3249  -13.7  -15.0     90   1.76    345     12  289.6  295.0  289.9', ''], ['  669.0   3384  -14.5  -17.1     81   1.50    345     13  290.1  294.8  290.4', ''], ['  645.1   3658  -16.9  -19.7     79   1.25    345     13  290.5  294.4  290.7', ''], ['  637.0   3753  -17.7  -20.6     78   1.17    353     13  290.6  294.3  290.8', ''], ['  611.0   4064  -19.7  -21.8     83   1.10     18     15  291.8  295.3  291.9', ''], ['  594.4   4267  -21.0  -24.6     73   0.88     35     16  292.5  295.4  292.7', ''], ['  579.0   4461  -22.3  -27.3     64   0.71     32     17  293.2  295.6  293.4', ''], ['  557.0   4745  -24.9  -31.9     52   0.48     27     19  293.4  295.0  293.5', ''], ['  548.0   4863  -25.7  -30.2     66   0.57     25     20  293.9  295.8  293.9', ''], ['  546.9   4877  -25.8  -30.6     64   0.55     25     20  293.9  295.7  294.0', ''], ['  540.0   4969  -26.5  -33.5     52   0.42     24     20  294.1  295.6  294.2', ''], ['  534.0   5050  -27.3  -32.3     62   0.48     24     21  294.1  295.7  294.2', ''], ['  528.0   5131  -27.9  -35.9     46   0.34     23     21  294.3  295.5  294.4', ''], ['  514.0   5324  -29.5  -39.5     37   0.24     22     21  294.7  295.5  294.7', ''], ['  505.0   5449  -30.7  -39.7     41   0.24     21     22  294.7  295.6  294.8', ''], ['  500.0   5520  -30.9  -41.9     33   0.19     20     22  295.3  296.0  295.3', ''], ['  488.0   5692  -32.5  -44.5     29   0.15      4     20  295.4  295.9  295.4', ''], ['  470.0   5957  -32.7  -53.7     10   0.05    338     17  298.3  298.6  298.4', ''], ['  460.8   6096  -33.6  -56.4      8   0.04    325     15  298.8  299.0  298.9', ''], ['  449.0   6278  -34.9  -59.9      6   0.03    328     16  299.5  299.6  299.5', ''], ['  433.0   6531  -35.1  -61.1      5   0.02    332     18  302.4  302.5  302.4', ''], ['  405.0   6994  -38.1  -62.1      6   0.02    339     20  304.3  304.4  304.3', ''], ['  400.0   7080  -37.9  -61.9      6   0.02    340     21  305.6  305.8  305.7', ''], ['  389.0   7271  -38.5  -62.5      6   0.02    333     21  307.3  307.4  307.3', ''], ['  369.5   7620  -40.4  -63.6      7   0.02    320     20  309.4  309.4  309.4', ''], ['  341.0   8165  -43.3  -65.3      7   0.02    324     23  312.6  312.6  312.6', ''], ['  324.0   8509  -43.9  -66.9      6   0.01    326     24  316.3  316.4  316.3', ''], ['  300.0   9020  -47.7  -67.7      8   0.01    330     27  318.0  318.1  318.0', ''], ['  298.0   9064  -48.1  -68.1      8   0.01    330     28  318.1  318.1  318.1', ''], ['  294.4   9144  -48.3  -68.3      8   0.01    330     27  318.9  319.0  318.9', ''], ['  268.0   9763  -49.5  -69.5      8   0.01    319     29  325.8  325.9  325.8', ''], ['  250.0  10220  -49.1  -74.1      4   0.01    310     30  332.9  333.0  332.9', ''], ['  226.0  10885  -48.1  -79.1      2   0.00    310     32  344.2  344.2  344.2', ''], ['  219.0  11093  -49.3  -80.3      1   0.00    310     33  345.5  345.5  345.5', ''], ['  205.0  11527  -48.7  -79.7      2   0.00    310     34  353.0  353.0  353.0', ''], ['  200.0  11690  -49.1  -80.1      2   0.00    310     35  354.9  354.9  354.9', ''], ['  195.0  11856  -50.1  -81.1      1   0.00    303     34  355.8  355.9  355.8', ''], ['  189.0  12060  -49.7  -81.7      1   0.00    295     32  359.7  359.7  359.7', ''], ['  185.2  12192  -50.6  -82.2      1   0.00    290     31  360.2  360.2  360.2', ''], ['  172.0  12671  -54.1  -84.1      1   0.00    295     46  362.2  362.2  362.2', ''], ['  168.5  12802  -53.4  -83.4      1   0.00    305     53  365.5  365.5  365.5', ''], ['  167.0  12861  -53.1  -83.1      1   0.00    305     52  366.9  367.0  366.9', ''], ['  160.0  13136  -54.5  -83.5      2   0.00    305     49  369.1  369.1  369.1', ''], ['  150.0  13550  -54.5  -82.5      2   0.00    305     45  376.0  376.0  376.0', ''], ['  147.0  13679  -54.3  -82.3      2   0.00    304     43  378.5  378.5  378.5', ''], ['  139.3  14021  -55.3  -83.3      2   0.00    300     36  382.6  382.6  382.6', ''], ['  132.8  14326  -56.2  -84.2      2   0.00    280     46  386.3  386.3  386.3', ''], ['  132.0  14366  -56.3  -84.3      2   0.00    282     47  386.7  386.8  386.7', ''], ['  131.0  14414  -56.3  -84.3      2   0.00    284     47  387.6  387.6  387.6', ''], ['  130.0  14463  -54.7  -83.7      2   0.00    286     48  391.3  391.3  391.3', ''], ['  127.0  14612  -54.9  -83.9      2   0.00    292     50  393.6  393.6  393.6', ''], ['  126.0  14663  -53.5  -83.5      1   0.00    294     51  397.0  397.0  397.0', ''], ['  124.0  14765  -53.9  -83.9      1   0.00    298     53  398.1  398.1  398.1', ''], ['  120.8  14935  -53.4  -84.2      1   0.00    305     55  402.0  402.0  402.0', ''], ['  120.0  14976  -53.3  -84.3      1   0.00    307     54  402.9  402.9  402.9', ''], ['  115.2  15240  -54.2  -84.9      1   0.00    320     45  406.0  406.0  406.0', ''], ['  109.8  15545  -55.3  -85.5      1   0.00    325     35  409.5  409.5  409.5', ''], ['  107.0  15710  -55.9  -85.9      1   0.00    317     30  411.4  411.4  411.4', ''], ['  104.7  15850  -55.9  -86.2      1   0.00    310     26  414.0  414.0  414.0', ''], ['  100.0  16140  -55.9  -86.9      1   0.00    305     33  419.4  419.5  419.4', ''], ['   94.5  16500  -55.5  -86.5      1   0.00    295     30  427.1  427.1  427.1', ''], ['   82.6  17351  -58.9  -87.9      1   0.00    271     21  436.9  436.9  436.9', ''], ['   82.3  17374  -58.7  -87.8      1   0.00    270     21  437.8  437.8  437.8', ''], ['   80.6  17505  -57.5  -87.5      1   0.00    276     24  442.8  442.8  442.8', ''], ['   75.4  17924  -59.5  -88.5      1   0.00    297     35  447.1  447.2  447.1', ''], ['   74.7  17983  -59.2  -88.4      1   0.00    300     36  449.0  449.0  449.0', ''], ['   72.2  18196  -58.1  -88.1      1   0.00    297     31  455.7  455.7  455.7', ''], ['   71.2  18288  -58.5  -88.0      1   0.00    295     29  456.8  456.8  456.8', ''], ['   70.0  18390  -58.9  -87.9      1   0.00    285     28  458.0  458.1  458.0', ''], ['   67.8  18593  -60.1  -88.6      1   0.00    280     33  459.7  459.7  459.7', ''], ['   66.0  18757  -61.1  -89.1      1   0.00    287     31  461.0  461.0  461.0', ''], ['   64.8  18871  -60.9  -88.9      1   0.00    292     30  463.9  463.9  463.9', ''], ['   64.1  18939  -57.5  -87.5      1   0.00    295     30  472.8  472.8  472.8', ''], ['   63.5  18999  -57.1  -88.1      1   0.00    298     29  474.9  474.9  474.9', ''], ['   58.9  19474  -57.9  -87.9      1   0.00    319     24  483.4  483.5  483.4', ''], ['   58.6  19507  -57.7  -87.8      1   0.00    320     24  484.6  484.6  484.6', ''], ['   56.3  19760  -56.3  -87.3      1   0.00    353     15  493.4  493.4  493.4', ''], ['   55.8  19812  -56.6  -87.5      1   0.00      0     13  493.9  493.9  493.9', ''], ['   53.2  20117  -58.3  -88.4      1   0.00    330      6  496.8  496.8  496.8', ''], ['   52.9  20153  -58.5  -88.5      1   0.00    332      6  497.1  497.1  497.1', ''], ['   50.0  20510  -55.9  -87.9      1   0.00    350      8  511.3  511.3  511.3', ''], ['   49.8  20535  -55.7  -87.7      1   0.00    348      8  512.4  512.4  512.4', ''], ['   46.8  20927  -58.5  -88.5      1   0.00    322     10  514.8  514.9  514.8', ''], ['   46.0  21031  -57.7  -88.2      1   0.00    315     11  519.1  519.1  519.1', ''], ['   43.9  21336  -55.5  -87.3      1   0.00     35     18  531.8  531.8  531.8', ''], ['   43.5  21389  -55.1  -87.1      1   0.00     32     18  534.0  534.1  534.0', ''], ['   39.8  21946  -57.3  -88.6      1   0.00      5     17  542.2  542.2  542.2', ''], ['   38.2  22210  -58.3  -89.3      1   0.00     21     17  546.1  546.1  546.1', ''], ['   35.8  22620  -55.5  -87.5      1   0.01     46     16  563.5  563.6  563.6', ''], ['   34.5  22860  -55.7  -87.7      1   0.01     60     16  569.1  569.2  569.1', ''], ['   31.3  23470  -56.3  -88.3      1   0.01     15     29  583.5  583.6  583.5', ''], ['   30.0  23740  -56.5  -88.5      1   0.01     20     24  590.0  590.1  590.0', ''], ['   29.6  23825  -56.9  -88.9      1   0.00     22     24  591.2  591.2  591.2', ''], ['   28.7  24023  -54.1  -87.1      1   0.01     27     23  604.2  604.2  604.2', ''], ['   27.4  24321  -53.1  -86.1      1   0.01     34     22  615.0  615.1  615.0', ''], ['   27.1  24384  -53.3  -86.2      1   0.01     35     22  616.1  616.2  616.1', ''], ['   25.9  24689  -54.3  -86.8      1   0.01     40     22  621.7  621.8  621.7', ''], ['   22.4  25603  -57.4  -88.7      1   0.01     35     35  638.6  638.6  638.6', ''], ['   21.7  25811  -58.1  -89.1      1   0.01     35     31  642.5  642.5  642.5', ''], ['   20.4  26213  -55.5  -87.2      1   0.01     35     22  662.2  662.3  662.2', ''], ['   20.0  26330  -54.7  -86.7      1   0.01     35     22  668.0  668.1  668.0', ''], ['   19.1  26625  -53.1  -86.1      1   0.01     35     23  681.8  681.9  681.8', ''], ['   16.9  27406  -56.7  -88.7      1   0.01     35     27  694.5  694.6  694.5', ''], ['   16.8  27432  -56.7  -88.7      1   0.01     35     27  695.2  695.3  695.2', ''], ['   15.1  28118  -57.3  -89.3      1   0.01     37     27  715.2  715.3  715.2', ''], ['   14.3  28464  -54.9  -86.9      1   0.01     38     27  734.5  734.7  734.5', ''], ['   12.5  29316  -58.1  -90.1      1   0.01     41     26  752.1  752.2  752.1', ''], ['   11.5  29846  -53.9  -86.9      1   0.02     43     26  785.3  785.5  785.3', ''], ['   10.6  30368  -54.1  -87.1      1   0.02     45     26  803.0  803.3  803.1', ''], ['   10.4  30480  -54.5  -87.2      1   0.02     45     26  805.5  805.8  805.5', ''], ['   10.0  30740  -55.5  -87.5      1   0.02     30     27  811.3  811.5  811.3', ''], ['    9.5  31090  -57.3  -89.3      1   0.01     30     32  817.3  817.5  817.3', ''], ['    9.3  31200  -57.9  -89.9      1   0.01                819.2  819.4  819.2', ''], ['</PRE><H3>Station information and sounding indices</H3><PRE>', ''], ['                         Station identifier: SLC', ''], ['                             Station number: 72572', ''], ['                           Observation time: 181111/1200', ''], ['                           Station latitude: 40.77', ''], ['                          Station longitude: -111.95', ''], ['                          Station elevation: 1289.0', ''], ['                            Showalter index: 2.80', ''], ['                               Lifted index: 2.51', ''], ['    LIFT computed using virtual temperature: 2.47', ''], ['                                SWEAT index: 147.99', ''], ['                                    K index: 21.80', ''], ['                         Cross totals index: 24.80', ''], ['                      Vertical totals index: 29.80', ''], ['                        Totals totals index: 54.60', ''], ['      Convective Available Potential Energy: 0.00', ''], ['             CAPE using virtual temperature: 0.00', ''], ['                      Convective Inhibition: 0.00', ''], ['             CINS using virtual temperature: 0.00', ''], ['                     Bulk Richardson Number: 0.00', ''], ['          Bulk Richardson Number using CAPV: 0.00', ''], ['  Temp [K] of the Lifted Condensation Level: 266.44', ''], ['Pres [hPa] of the Lifted Condensation Level: 788.62', ''], ['     Mean mixed layer potential temperature: 285.16', ''], ['              Mean mixed layer mixing ratio: 2.95', ''], ['              1000 hPa to 500 hPa thickness: 5335.00', ''], ['Precipitable water [mm] for entire sounding: 6.41', ''], ['</PRE>', ''], ['<P>Description of the ', ''], ['<A HREF=\"/upperair/columns.html\">data columns</A>', ''], ['or <A HREF=\"/upperair/indices.html\">sounding indices</A>.', ''], ['', ''], ['<P>', ''], ['<FORM>', ''], ['<INPUT CLASS=\"button\" TYPE=\"button\" VALUE=\" Close this window \" ', ''], [' onClick=\"window.close();\">', ''], ['<INPUT CLASS=\"button\" TYPE=\"button\" VALUE=\" Select another map \" ', ''], [' onClick=\"window.blur();\">', ''], ['</FORM>', ''], ['<HR SIZE=\"1\">', ''], ['<I>Interested in graduate studies in atmospheric science?', ''], ['Check out our program at the', ''], ['<a href=\"http://www.uwyo.edu/atsc/howtoapply/\"', ''], ['target=_top>University of Wyoming', ''], ['</a></I>', ''], ['<HR SIZE=\"1\"><FONT SIZE=\"-1\">', ''], ['Questions about the weather data provided by this site can be', ''], ['addressed to <A HREF=\"mailto:ldoolman@uwyo.edu\">', ''], ['Larry Oolman (ldoolman@uwyo.edu)</A></FONT>', ''], ['<HR SIZE=\"1\">', ''], ['<SCRIPT TYPE=\"text/javascript\">', ''], ['<!--', ''], ['window.focus();', ''], ['// -->', ''], ['</SCRIPT>', ''], ['</BODY>', ''], ['</HTML>', '']]\n"
     ]
    }
   ],
   "source": [
    "# That looks pretty ugly. \n",
    "# We need to split the content on the end of line character \\n\n",
    "# There are many ways to do that, so this is just one way\n",
    "\n",
    "# Create an empty list\n",
    "Contents = []\n",
    "# loop over the whole file\n",
    "with open('slc_snd.txt','r') as file:\n",
    "    #operate on each line\n",
    "    for line in file:\n",
    "        #append the lines in sequence to the list Contents\n",
    "        Contents.append(line.split('\\n'))\n",
    "print(Contents)"
   ]
  },
  {
   "cell_type": "code",
   "execution_count": 481,
   "metadata": {},
   "outputs": [
    {
     "name": "stdout",
     "output_type": "stream",
     "text": [
      "[['    hPa     m      C      C      %    g/kg    deg   knot     K      K      K ', ''], ['-----------------------------------------------------------------------------', ''], [' 1000.0    185                                                               ', ''], ['  925.0    830                                                               ', ''], ['  875.0   1289    0.4   -4.2     71   3.22    330      5  284.2  293.5  284.7', '']]\n"
     ]
    }
   ],
   "source": [
    "# well that is still really ugly, but you should be able to see it is a list of strings\n",
    "# and that there are two strings in each row with the second string empty\n",
    "print(Contents[8:13])"
   ]
  },
  {
   "cell_type": "code",
   "execution_count": 482,
   "metadata": {},
   "outputs": [
    {
     "name": "stdout",
     "output_type": "stream",
     "text": [
      "['875.0', '1289', '0.4', '-4.2', '71', '3.22', '330', '5', '284.2', '293.5', '284.7']\n"
     ]
    }
   ],
   "source": [
    "# Here's how to split the information in a single row and only from the first column\n",
    "sval = (Contents[12][0].split())\n",
    "print(sval)"
   ]
  },
  {
   "cell_type": "code",
   "execution_count": 483,
   "metadata": {},
   "outputs": [
    {
     "name": "stdout",
     "output_type": "stream",
     "text": [
      "[875.0, 1289.0, 0.4, -4.2, 71.0, 3.22, 330.0, 5.0, 284.2, 293.5, 284.7]\n"
     ]
    }
   ],
   "source": [
    "# And a brute force way to then convert those strings to float values\n",
    "values = [float(i) for i in sval]\n",
    "print(values)"
   ]
  },
  {
   "cell_type": "markdown",
   "metadata": {},
   "source": [
    "# Using NumPy to read file content into arrays\n",
    "NumPy functions can be used to make this a lot easier. We will use two different approaches for this case"
   ]
  },
  {
   "cell_type": "code",
   "execution_count": 484,
   "metadata": {},
   "outputs": [],
   "source": [
    "import numpy as np\n",
    "\n",
    "# Repeat reading the file\n",
    "# Create an empty list\n",
    "Contents = []\n",
    "# loop over the whole file\n",
    "with open('slc_snd.txt','r') as file:\n",
    "    #operate on each line\n",
    "    for line in file:\n",
    "        #append the lines in sequence to the list Contents\n",
    "        Contents.append(line.split('\\n'))"
   ]
  },
  {
   "cell_type": "code",
   "execution_count": 485,
   "metadata": {},
   "outputs": [
    {
     "name": "stdout",
     "output_type": "stream",
     "text": [
      "100 2\n"
     ]
    }
   ],
   "source": [
    "#To focus on the data of interest, we will just skip over the first 11 rows and \n",
    "# arbitrarily decide to grab the next 100 rows\n",
    "rows, cols = np.shape(Contents[12:112])\n",
    "print(rows,cols)\n",
    "# Ah, now it is obvious that there are two columns due to the second empty string in each row"
   ]
  },
  {
   "cell_type": "code",
   "execution_count": 486,
   "metadata": {},
   "outputs": [
    {
     "name": "stdout",
     "output_type": "stream",
     "text": [
      "[[0. 0. 0. ... 0. 0. 0.]\n",
      " [0. 0. 0. ... 0. 0. 0.]\n",
      " [0. 0. 0. ... 0. 0. 0.]\n",
      " ...\n",
      " [0. 0. 0. ... 0. 0. 0.]\n",
      " [0. 0. 0. ... 0. 0. 0.]\n",
      " [0. 0. 0. ... 0. 0. 0.]]\n"
     ]
    }
   ],
   "source": [
    "# how many data columns are there actually in the file?\n",
    "# Look again at the actual file slc_snd.txt\n",
    "# There are 11 columns\n",
    "# So create a 2-D array of size rows by 11 columns\n",
    "snd_vals = np.zeros((rows,11))\n",
    "print(snd_vals)"
   ]
  },
  {
   "cell_type": "code",
   "execution_count": 487,
   "metadata": {},
   "outputs": [
    {
     "data": {
      "text/plain": [
       "1100"
      ]
     },
     "execution_count": 487,
     "metadata": {},
     "output_type": "execute_result"
    }
   ],
   "source": [
    "# look at the information returned using the size vs shape function\n",
    "np.size(snd_vals)"
   ]
  },
  {
   "cell_type": "code",
   "execution_count": 488,
   "metadata": {},
   "outputs": [
    {
     "data": {
      "text/plain": [
       "(100, 11)"
      ]
     },
     "execution_count": 488,
     "metadata": {},
     "output_type": "execute_result"
    }
   ],
   "source": [
    "np.shape(snd_vals)"
   ]
  },
  {
   "cell_type": "code",
   "execution_count": 489,
   "metadata": {},
   "outputs": [],
   "source": [
    "# Now snd_vals is just a 2-d array of size 100 x 11 filled with zeros. \n",
    "# Need to actually put the data into that array"
   ]
  },
  {
   "cell_type": "markdown",
   "metadata": {},
   "source": [
    "# NumPy arange() function\n",
    "arange() is similar to the python range() function but the output is a NumPy array instead of a list"
   ]
  },
  {
   "cell_type": "code",
   "execution_count": 490,
   "metadata": {},
   "outputs": [
    {
     "name": "stdout",
     "output_type": "stream",
     "text": [
      "[0 1 2 3 4]\n",
      "[10  9  8  7  6  5  4  3  2  1  0]\n"
     ]
    }
   ],
   "source": [
    "# try the following\n",
    "a = np.arange(5)\n",
    "print(a)\n",
    "b = np.arange(10,-1,-1)\n",
    "print(b)"
   ]
  },
  {
   "cell_type": "code",
   "execution_count": 491,
   "metadata": {},
   "outputs": [
    {
     "name": "stdout",
     "output_type": "stream",
     "text": [
      "[[ 8.750e+02  1.289e+03  4.000e-01 ...  2.842e+02  2.935e+02  2.847e+02]\n",
      " [ 8.540e+02  1.480e+03 -1.100e+00 ...  2.846e+02  2.931e+02  2.851e+02]\n",
      " [ 8.500e+02  1.517e+03 -1.100e+00 ...  2.850e+02  2.934e+02  2.855e+02]\n",
      " ...\n",
      " [ 3.820e+01  2.221e+04 -5.830e+01 ...  5.461e+02  5.461e+02  5.461e+02]\n",
      " [ 3.580e+01  2.262e+04 -5.550e+01 ...  5.635e+02  5.636e+02  5.636e+02]\n",
      " [ 3.450e+01  2.286e+04 -5.570e+01 ...  5.691e+02  5.692e+02  5.691e+02]]\n"
     ]
    }
   ],
   "source": [
    "# use the arange function to loop over 100 rows\n",
    "for i in np.arange(rows):\n",
    "    # ugh. this next statement is why dealing with I/O can be a hassle\n",
    "    # 1: skip over the first 12 header rows and access only the first column in each row\n",
    "    # 2: need to convert from string values to floats (use the dtype argument)\n",
    "    # 3: get the values in the string by removing all the whitespace using the sep argument\n",
    "    val= np.fromstring(Contents[i+12][0], dtype=np.float, sep=' ' )\n",
    "    # stick the column vector for that row into the 2d array beginning at the 0th row\n",
    "    snd_vals[i,:]=val[:]  \n",
    "#what did we get?\n",
    "print(snd_vals)"
   ]
  },
  {
   "cell_type": "code",
   "execution_count": 492,
   "metadata": {},
   "outputs": [
    {
     "data": {
      "text/plain": [
       "(100, 11)"
      ]
     },
     "execution_count": 492,
     "metadata": {},
     "output_type": "execute_result"
    }
   ],
   "source": [
    "#what is the shape of snd_vals again?\n",
    "np.shape(snd_vals)"
   ]
  },
  {
   "cell_type": "code",
   "execution_count": 493,
   "metadata": {},
   "outputs": [
    {
     "data": {
      "text/plain": [
       "array([ 8.750e+02,  1.289e+03,  4.000e-01, -4.200e+00,  7.100e+01,\n",
       "        3.220e+00,  3.300e+02,  5.000e+00,  2.842e+02,  2.935e+02,\n",
       "        2.847e+02])"
      ]
     },
     "execution_count": 493,
     "metadata": {},
     "output_type": "execute_result"
    }
   ],
   "source": [
    "# what is in the first row?\n",
    "snd_vals[0]"
   ]
  },
  {
   "cell_type": "markdown",
   "metadata": {},
   "source": [
    "# Reminder: indexing & slicing in NumPy differs from regular Python\n",
    "-MAIN DIFFERENCE:\n",
    "    - [i][j] (Python)\n",
    "    - [i,j] (NumPy)"
   ]
  },
  {
   "cell_type": "code",
   "execution_count": 494,
   "metadata": {},
   "outputs": [
    {
     "name": "stdout",
     "output_type": "stream",
     "text": [
      "854.0\n",
      "1480.0\n",
      "-1.1\n"
     ]
    }
   ],
   "source": [
    "# what is in the first column of the second row?\n",
    "print(snd_vals[1,0])\n",
    "# the first column holds the pressures\n",
    "print(snd_vals[1,1])\n",
    "# the second column holds the height\n",
    "print(snd_vals[1,2])\n",
    "# the third column has the temperatures"
   ]
  },
  {
   "cell_type": "code",
   "execution_count": 495,
   "metadata": {},
   "outputs": [
    {
     "data": {
      "image/png": "[encoded data removed]",
      "text/plain": [
       "<Figure size 432x288 with 1 Axes>"
      ]
     },
     "metadata": {},
     "output_type": "display_data"
    }
   ],
   "source": [
    "#ok, that was painful, so let's plot up some of what is in the snd_vals array\n",
    "# matplotlib.pyplot module provides the plotting capabilities \n",
    "# plot the temperature on the x axis as a function of height on the y axis\n",
    "import matplotlib.pyplot as plt\n",
    "fig = plt.figure()\n",
    "ax  = fig.add_subplot(1,1,1)\n",
    "ax.plot(snd_vals[:,2], snd_vals[:,1])\n",
    "ax.set(xlabel='Temperature (C)', ylabel='Elevation (m)',\n",
    "       title='Salt Lake Sounding Temperature')\n",
    "ax.grid()\n",
    "\n",
    "#that's useful!"
   ]
  },
  {
   "cell_type": "code",
   "execution_count": 496,
   "metadata": {},
   "outputs": [],
   "source": [
    "#now there are always easier ways to do things\n",
    "#converting from strings to floats can be a hassle\n",
    "#in this instance since the data is fairly regular, the numpy genfromtxt can be used\n",
    "#you've already used that"
   ]
  },
  {
   "cell_type": "code",
   "execution_count": 497,
   "metadata": {},
   "outputs": [
    {
     "name": "stdout",
     "output_type": "stream",
     "text": [
      "[[ 8.7500e+02  1.2890e+03  4.0000e-01 ...  2.8420e+02  2.9350e+02\n",
      "   2.8470e+02]\n",
      " [ 8.5400e+02  1.4800e+03 -1.1000e+00 ...  2.8460e+02  2.9310e+02\n",
      "   2.8510e+02]\n",
      " [ 8.5000e+02  1.5170e+03 -1.1000e+00 ...  2.8500e+02  2.9340e+02\n",
      "   2.8550e+02]\n",
      " ...\n",
      " [ 1.2500e+01  2.9316e+04 -5.8100e+01 ...  7.5210e+02  7.5220e+02\n",
      "   7.5210e+02]\n",
      " [ 1.1500e+01  2.9846e+04 -5.3900e+01 ...  7.8530e+02  7.8550e+02\n",
      "   7.8530e+02]\n",
      " [ 1.0600e+01  3.0368e+04 -5.4100e+01 ...  8.0300e+02  8.0330e+02\n",
      "   8.0310e+02]]\n"
     ]
    }
   ],
   "source": [
    "#import function to read csv into array\n",
    "from numpy import genfromtxt\n",
    "#read  file using numpy \n",
    "#plenty of gotchas hidden in this\n",
    "# In this case the delimiter between data is any whitespace so it doesn't need to be specified\n",
    "slc_snd = np.genfromtxt('slc_snd.txt', skip_header=12, skip_footer=60)\n",
    "#print out entire array\n",
    "print(slc_snd)\n"
   ]
  },
  {
   "cell_type": "code",
   "execution_count": 498,
   "metadata": {},
   "outputs": [
    {
     "data": {
      "text/plain": [
       "(119, 11)"
      ]
     },
     "execution_count": 498,
     "metadata": {},
     "output_type": "execute_result"
    }
   ],
   "source": [
    "np.shape(slc_snd)\n",
    "# note: the number of columns for the array was determined by the first row it read"
   ]
  },
  {
   "cell_type": "code",
   "execution_count": 499,
   "metadata": {},
   "outputs": [],
   "source": [
    "# Try removing  the skip header and footer options and see if it still works. \n",
    "# Question: what happened?\n",
    "# slc_snd_nohf = np.genfromtxt('slc_snd.txt')\n",
    "# Mixing data arbitrarily in with other content can make things complicated"
   ]
  },
  {
   "cell_type": "code",
   "execution_count": 500,
   "metadata": {},
   "outputs": [
    {
     "data": {
      "text/plain": [
       "(875, 0)"
      ]
     },
     "execution_count": 500,
     "metadata": {},
     "output_type": "execute_result"
    },
    {
     "data": {
      "image/png": "[encoded data removed]",
      "text/plain": [
       "<Figure size 432x288 with 1 Axes>"
      ]
     },
     "metadata": {},
     "output_type": "display_data"
    }
   ],
   "source": [
    "#alright let's plot something else\n",
    "fig = plt.figure()\n",
    "ax  = fig.add_subplot(1,1,1)\n",
    "# plot the pressure in column 0 on the y axis and wind speed on the x axis\n",
    "ax.plot(slc_snd[:,7], slc_snd[:,0])\n",
    "ax.set(xlabel='Wind Speed (knots))', ylabel='Pressure (hPa))',\n",
    "       title='Salt Lake Sounding Wind Speed')\n",
    "ax.grid()\n",
    "#want pressure to decrease with height\n",
    "ax.set_ylim([875,0])"
   ]
  },
  {
   "cell_type": "markdown",
   "metadata": {},
   "source": [
    "# In Class Assignment 1\n",
    "\n",
    "Plot potential temperature (thta) vs. height"
   ]
  },
  {
   "cell_type": "code",
   "execution_count": null,
   "metadata": {},
   "outputs": [],
   "source": []
  },
  {
   "cell_type": "markdown",
   "metadata": {},
   "source": [
    "# Reviewing NumPy basics\n",
    "\n",
    "Creation of 1D arrays\n",
    "\n",
    "There are several options to create a 1D numpy arrays:\n",
    "\n",
    "- numpy.array() : create an numpy array from a python array-like object\n",
    "- numpy.arange({start], stop[, step], dtype=None) : return evenly spaced values with given interval\n",
    "- numpy.linspace(start, stop, num=50, endpoint=True) : return evenly spaced numbers over a specified interval."
   ]
  },
  {
   "cell_type": "code",
   "execution_count": 501,
   "metadata": {},
   "outputs": [
    {
     "name": "stdout",
     "output_type": "stream",
     "text": [
      "a := np.linspace(0,1,11):\n",
      "[0.  0.1 0.2 0.3 0.4 0.5 0.6 0.7 0.8 0.9 1. ]\n",
      "\n",
      "b := np.linspace(0,1,10,endpoint=False):\n",
      "[0.  0.1 0.2 0.3 0.4 0.5 0.6 0.7 0.8 0.9]\n",
      "\n"
     ]
    }
   ],
   "source": [
    "# For example, here are a couple of ways to create values over the interval [0,1] with equidistant intervals \n",
    "#  #Intervals: (b-a)/dx\n",
    "a=np.linspace(0,1,11)   \n",
    "print(\"a := np.linspace(0,1,11):\\n{0}\\n\".format(a))\n",
    "\n",
    "# [0,1[ with equidistant intervals\n",
    "b=np.linspace(0,1,10,endpoint=False) \n",
    "print(\"b := np.linspace(0,1,10,endpoint=False):\\n{0}\\n\".format(b))"
   ]
  },
  {
   "cell_type": "markdown",
   "metadata": {},
   "source": [
    "# Multi dimensional arrays:\n",
    "There are a bunch of ways to create numpy arrays of different sizes\n",
    "- numpy.array: create an numpy array from a python array-like object (as in the 1D case)\n",
    "- numpy.reshape(a,newshape[,order])\n",
    "    - gives a new shape (dimensionality) to an array without changing its data\n",
    "    - newshape: tuple\n",
    "    - order: 'F', 'C'\n",
    "        - 'C': C-order => row-order (Default)\n",
    "        - 'F': Fortran-order => column-order\n",
    "- numpy.meshgrid : returns coordinate matrices from two or more 1D coordinate vectors"
   ]
  },
  {
   "cell_type": "code",
   "execution_count": 502,
   "metadata": {},
   "outputs": [
    {
     "name": "stdout",
     "output_type": "stream",
     "text": [
      "a := np.array([[1,2,3,4],[5,6,7,8],[9,10,11,12]]) :\n",
      "[[ 1  2  3  4]\n",
      " [ 5  6  7  8]\n",
      " [ 9 10 11 12]]\n",
      "\n",
      "b := np.arange(1,13).reshape(3,4) :\n",
      "[[ 1  2  3  4]\n",
      " [ 5  6  7  8]\n",
      " [ 9 10 11 12]]\n",
      "\n"
     ]
    }
   ],
   "source": [
    "# Numpy-array from 2D List\n",
    "a=np.array([[1,2,3,4],[5,6,7,8],[9,10,11,12]])\n",
    "print(\"a := np.array([[1,2,3,4],[5,6,7,8],[9,10,11,12]]) :\\n{0}\\n\".format(a))\n",
    "\n",
    "# Reshape\n",
    "b=np.arange(1,13).reshape(3,4)\n",
    "print(\"b := np.arange(1,13).reshape(3,4) :\\n{0}\\n\".format(b))"
   ]
  },
  {
   "cell_type": "code",
   "execution_count": 503,
   "metadata": {},
   "outputs": [
    {
     "name": "stdout",
     "output_type": "stream",
     "text": [
      "a := np.array([[1,2,3],[4,5,6]]) :\n",
      "[[1 2 3]\n",
      " [4 5 6]]\n",
      "\n",
      "b1:= np.reshape(a,(1,6)) :\n",
      "[[1 2 3 4 5 6]]\n",
      "\n",
      "b2:= np.reshape(a,(1,6),order='F') :\n",
      "[[1 4 2 5 3 6]]\n",
      "\n"
     ]
    }
   ],
   "source": [
    "a=np.array([[1,2,3],[4,5,6]])\n",
    "print(\"a := np.array([[1,2,3],[4,5,6]]) :\\n{0}\\n\".format(a))\n",
    "\n",
    "# Row-order (C)\n",
    "b1=np.reshape(a,(1,6))\n",
    "print(\"b1:= np.reshape(a,(1,6)) :\\n{0}\\n\".format(b1))\n",
    "\n",
    "# Column-order Fortran\n",
    "b2=np.reshape(a,(1,6),order='F')\n",
    "print(\"b2:= np.reshape(a,(1,6),order='F') :\\n{0}\\n\".format(b2))\n",
    "\n",
    "#This is important to recognize, so make sure this makes sense to you (or ask questions!)"
   ]
  },
  {
   "cell_type": "code",
   "execution_count": 504,
   "metadata": {},
   "outputs": [
    {
     "name": "stdout",
     "output_type": "stream",
     "text": [
      " BEFORE Invoking the Meshgrid function:\n",
      "   x := dim:(8,):\n",
      "[-1.   -0.75 -0.5  -0.25  0.    0.25  0.5   0.75]\n",
      "\n",
      "   y := dim:(8,):\n",
      "[-1.   -0.75 -0.5  -0.25  0.    0.25  0.5   0.75]\n",
      "\n",
      " AFTER Invoking the Meshgrid function:\n",
      "   X := dim:(8, 8):\n",
      "[[-1.   -0.75 -0.5  -0.25  0.    0.25  0.5   0.75]\n",
      " [-1.   -0.75 -0.5  -0.25  0.    0.25  0.5   0.75]\n",
      " [-1.   -0.75 -0.5  -0.25  0.    0.25  0.5   0.75]\n",
      " [-1.   -0.75 -0.5  -0.25  0.    0.25  0.5   0.75]\n",
      " [-1.   -0.75 -0.5  -0.25  0.    0.25  0.5   0.75]\n",
      " [-1.   -0.75 -0.5  -0.25  0.    0.25  0.5   0.75]\n",
      " [-1.   -0.75 -0.5  -0.25  0.    0.25  0.5   0.75]\n",
      " [-1.   -0.75 -0.5  -0.25  0.    0.25  0.5   0.75]]\n",
      "\n",
      "   Y := dim:(8, 8):\n",
      "[[-1.   -1.   -1.   -1.   -1.   -1.   -1.   -1.  ]\n",
      " [-0.75 -0.75 -0.75 -0.75 -0.75 -0.75 -0.75 -0.75]\n",
      " [-0.5  -0.5  -0.5  -0.5  -0.5  -0.5  -0.5  -0.5 ]\n",
      " [-0.25 -0.25 -0.25 -0.25 -0.25 -0.25 -0.25 -0.25]\n",
      " [ 0.    0.    0.    0.    0.    0.    0.    0.  ]\n",
      " [ 0.25  0.25  0.25  0.25  0.25  0.25  0.25  0.25]\n",
      " [ 0.5   0.5   0.5   0.5   0.5   0.5   0.5   0.5 ]\n",
      " [ 0.75  0.75  0.75  0.75  0.75  0.75  0.75  0.75]]\n",
      "\n"
     ]
    },
    {
     "data": {
      "image/png": "[encoded data removed]",
      "text/plain": [
       "<Figure size 432x288 with 1 Axes>"
      ]
     },
     "metadata": {},
     "output_type": "display_data"
    }
   ],
   "source": [
    "# Meshgrid -> perfect to make grids for plots\n",
    "x = np.arange(-1,1, 0.25)\n",
    "y = np.arange(-1,1, 0.25)\n",
    "\n",
    "print(\" BEFORE Invoking the Meshgrid function:\")\n",
    "print(\"   x := dim:{0}:\\n{1}\\n\".format(x.shape,x))\n",
    "print(\"   y := dim:{0}:\\n{1}\\n\".format(x.shape,y))\n",
    "\n",
    "EPS=1.0E-4\n",
    "X,Y = np.meshgrid(x,y)\n",
    "print(\" AFTER Invoking the Meshgrid function:\")\n",
    "print(\"   X := dim:{0}:\\n{1}\\n\".format(X.shape,X))\n",
    "print(\"   Y := dim:{0}:\\n{1}\\n\".format(Y.shape,Y))\n",
    "r = np.sqrt(X**2 + Y**2) + EPS\n",
    "Z = np.sin(r)/r\n",
    "\n",
    "# Matplot lib example\n",
    "from mpl_toolkits.mplot3d import Axes3D\n",
    "from matplotlib import cm\n",
    "from matplotlib.ticker import LinearLocator, FormatStrFormatter\n",
    "\n",
    "fig = plt.figure()\n",
    "ax = fig.gca(projection='3d')\n",
    "surf = ax.plot_surface(X, Y, Z, rstride=1, cstride=1,cmap=plt.cm.get_cmap('RdBu'),\n",
    "        linewidth=0, antialiased=False)\n",
    "ax.set_zlim(-0.1, 1.00)\n",
    "ax.set_title(\"Plot\")\n",
    "\n",
    "ax.zaxis.set_major_locator(LinearLocator(10))\n",
    "ax.zaxis.set_major_formatter(FormatStrFormatter('%.02f'))"
   ]
  },
  {
   "cell_type": "markdown",
   "metadata": {},
   "source": [
    "# In-Class Assignment 2\n",
    "\n",
    "Change the x and y dimensions to +- 8 . What does it look like?\n"
   ]
  },
  {
   "cell_type": "code",
   "execution_count": 505,
   "metadata": {},
   "outputs": [
    {
     "name": "stdout",
     "output_type": "stream",
     "text": [
      "a := np.arange(30).reshape((2,3,5)) :\n",
      "[[[ 0  1  2  3  4]\n",
      "  [ 5  6  7  8  9]\n",
      "  [10 11 12 13 14]]\n",
      "\n",
      " [[15 16 17 18 19]\n",
      "  [20 21 22 23 24]\n",
      "  [25 26 27 28 29]]]\n",
      "\n"
     ]
    }
   ],
   "source": [
    "a = np.arange(30).reshape((2,3,5))\n",
    "print(\"a := np.arange(30).reshape((2,3,5)) :\\n{0}\\n\".format(a))\n",
    "# created two 2D arrays of size 3 rows by 5 columns"
   ]
  },
  {
   "cell_type": "code",
   "execution_count": 506,
   "metadata": {},
   "outputs": [
    {
     "name": "stdout",
     "output_type": "stream",
     "text": [
      "b := np.flatten(a,order='C') :\n",
      "[ 0  1  2  3  4  5  6  7  8  9 10 11 12 13 14 15 16 17 18 19 20 21 22 23\n",
      " 24 25 26 27 28 29]\n",
      "\n"
     ]
    }
   ],
   "source": [
    "# Flatten multi-dimensional array\n",
    "b = a.flatten(order='C')\n",
    "print(\"b := np.flatten(a,order='C') :\\n{0}\\n\".format(b))"
   ]
  },
  {
   "cell_type": "code",
   "execution_count": 507,
   "metadata": {},
   "outputs": [
    {
     "name": "stdout",
     "output_type": "stream",
     "text": [
      "a := np.arange(20).reshape((4,5)) :\n",
      "[[ 0  1  2  3  4]\n",
      " [ 5  6  7  8  9]\n",
      " [10 11 12 13 14]\n",
      " [15 16 17 18 19]]\n",
      "\n",
      "b := np.arange(20.).reshape((4,5)) :\n",
      "[[ 0.  1.  2.  3.  4.]\n",
      " [ 5.  6.  7.  8.  9.]\n",
      " [10. 11. 12. 13. 14.]\n",
      " [15. 16. 17. 18. 19.]]\n",
      "\n"
     ]
    }
   ],
   "source": [
    "#NumPy arrays have many properties including the type of data contained in them\n",
    "a = np.arange(20).reshape(4,5)\n",
    "b = np.arange(20.).reshape(4,5)\n",
    "\n",
    "print(\"a := np.arange(20).reshape((4,5)) :\\n{0}\\n\".format(a))\n",
    "print(\"b := np.arange(20.).reshape((4,5)) :\\n{0}\\n\".format(b))"
   ]
  },
  {
   "cell_type": "code",
   "execution_count": 508,
   "metadata": {},
   "outputs": [
    {
     "name": "stdout",
     "output_type": "stream",
     "text": [
      " a:\n",
      "[[0.38333131 0.4920766  0.6374068  0.51462474 0.67738169]\n",
      " [0.3207234  0.36199616 0.15512047 0.82061191 0.79608797]\n",
      " [0.84816056 0.8840684  0.0072087  0.01498343 0.58266648]\n",
      " [0.20942946 0.07065626 0.94150896 0.10046772 0.69906712]\n",
      " [0.32940579 0.81927075 0.93742031 0.17213668 0.08806609]]\n",
      "\n",
      " b:\n",
      "[[0.10046772 0.69906712]\n",
      " [0.17213668 0.08806609]]\n",
      "\n",
      " b:\n",
      "[[0. 0.]\n",
      " [0. 0.]]\n",
      "\n",
      " a:\n",
      "[[0.38333131 0.4920766  0.6374068  0.51462474 0.67738169]\n",
      " [0.3207234  0.36199616 0.15512047 0.82061191 0.79608797]\n",
      " [0.84816056 0.8840684  0.0072087  0.01498343 0.58266648]\n",
      " [0.20942946 0.07065626 0.94150896 0.         0.        ]\n",
      " [0.32940579 0.81927075 0.93742031 0.         0.        ]]\n",
      "\n"
     ]
    }
   ],
   "source": [
    "# review of indexing and slicing\n",
    "a = np.random.random((5,5))\n",
    "print(\" a:\\n{0}\\n\".format(a))\n",
    "\n",
    "# b is a slice of a \n",
    "b = a[3:5,3:5]\n",
    "print(\" b:\\n{0}\\n\".format(b))\n",
    "\n",
    "#Modify b:\n",
    "b[:,:]=0.0\n",
    "print(\" b:\\n{0}\\n\".format(b))\n",
    "print(\" a:\\n{0}\\n\".format(a))"
   ]
  },
  {
   "cell_type": "markdown",
   "metadata": {},
   "source": [
    "# Logical Operations with Arrays\n",
    "\n",
    "- The where function provides simple ways to define the elements of arrays that meet certain conditions\n",
    "- If the condition is true, then the index values are returned"
   ]
  },
  {
   "cell_type": "code",
   "execution_count": 509,
   "metadata": {},
   "outputs": [
    {
     "name": "stdout",
     "output_type": "stream",
     "text": [
      " index values of high_p:\n",
      "(array([ 0,  1,  2,  3,  4,  5,  6,  7,  8,  9, 10, 11, 12, 13, 14, 15, 16,\n",
      "       17, 18, 19, 20, 21, 22, 23, 24], dtype=int64),)\n",
      "\n"
     ]
    }
   ],
   "source": [
    "# which index values for presssure in the slc_snd array are greater than 500 hPa?\n",
    "high_p = np.where(slc_snd[:,0]>500.)\n",
    "print(\" index values of high_p:\\n{0}\\n\".format(high_p))"
   ]
  },
  {
   "cell_type": "code",
   "execution_count": 510,
   "metadata": {},
   "outputs": [
    {
     "name": "stdout",
     "output_type": "stream",
     "text": [
      "[[875.  854.  850.  820.  817.3 794.  786.3 756.2 727.1 700.  681.  669.\n",
      "  645.1 637.  611.  594.4 579.  557.  548.  546.9 540.  534.  528.  514.\n",
      "  505. ]]\n"
     ]
    }
   ],
   "source": [
    "# so what are those values of pressure greater than 500 hPa?\n",
    "p_vals = slc_snd[high_p,0]\n",
    "print(p_vals)"
   ]
  },
  {
   "cell_type": "code",
   "execution_count": 511,
   "metadata": {},
   "outputs": [],
   "source": [
    "# what if we want to know when the winds are greater than 15 knots below 500 hPa?\n",
    "# pres_500_wind_15 = np.where( (slc_snd[:,0]>500.) and (slc_snd[:,7]> 15) )"
   ]
  },
  {
   "cell_type": "markdown",
   "metadata": {},
   "source": [
    "# Use Boolean logic to get around that error\n",
    "\n",
    "- Look at that where statement and see that the two expressions in the where statement return Boolean arrays (True/False) of the same shape as the original array\n",
    "- Boolean arrays can be multiplied and added\n",
    "    - False is zero\n",
    "    - True is one\n",
    "- Boolean multiplication is equivalent to and\n",
    "    - True x True = True\n",
    "    - True x False = False\n",
    "    - False x False = False\n",
    "- Boolean addition is equivalent to or\n",
    "    - True + True = True\n",
    "    - True + False = True\n",
    "    - False + False = False\n",
    "    "
   ]
  },
  {
   "cell_type": "code",
   "execution_count": 512,
   "metadata": {},
   "outputs": [
    {
     "name": "stdout",
     "output_type": "stream",
     "text": [
      " index values of high_p and high wind speed:\n",
      "(array([ 8, 15, 16, 17, 18, 19, 20, 21, 22, 23, 24], dtype=int64),)\n",
      "\n",
      "[[727.1 594.4 579.  557.  548.  546.9 540.  534.  528.  514.  505. ]] [[16. 16. 17. 19. 20. 20. 20. 21. 21. 21. 22.]]\n"
     ]
    }
   ],
   "source": [
    "# Using Boolean logic to get around that error\n",
    "p_500_w_15 = np.where( (slc_snd[:,0]>500.) * (slc_snd[:,7]> 15) )\n",
    "print(\" index values of high_p and high wind speed:\\n{0}\\n\".format(p_500_w_20))\n",
    "print(slc_snd[p_500_w_20,0],slc_snd[p_500_w_20,7])"
   ]
  },
  {
   "cell_type": "markdown",
   "metadata": {},
   "source": [
    "# Masked array module\n",
    "\n",
    "What if we wanted to plot only the levels in our sounding where the winds are greater than 15 mph?\n",
    "\n",
    "Masked arrays contain values identified to not be used in calculations or in plots\n",
    "\n",
    "More commonly, we might have data that has unrealistic values and we want to not use those in calculations\n"
   ]
  },
  {
   "cell_type": "code",
   "execution_count": 513,
   "metadata": {},
   "outputs": [],
   "source": [
    "# import masked array module in NumPy\n",
    "import numpy.ma as ma"
   ]
  },
  {
   "cell_type": "code",
   "execution_count": 514,
   "metadata": {},
   "outputs": [
    {
     "name": "stdout",
     "output_type": "stream",
     "text": [
      "[ True  True  True  True  True  True  True  True False  True  True  True\n",
      "  True  True False False False False False False False False False False\n",
      " False False False False False False False False False False False False\n",
      " False False False False False False False False False False False False\n",
      " False False False False False False False False False False False False\n",
      " False False False False False False False False False False False False\n",
      " False False False False False False False False False False False False\n",
      " False False False  True  True  True  True  True  True  True False False\n",
      " False False False False False False False False False False False False\n",
      " False False False False False False False False False False False]\n"
     ]
    }
   ],
   "source": [
    "# find all the elements with winds < 15 knots\n",
    "w_l15 =  (slc_snd[:,7]< 15)\n",
    "print(w_l15)"
   ]
  },
  {
   "cell_type": "code",
   "execution_count": 515,
   "metadata": {},
   "outputs": [
    {
     "name": "stdout",
     "output_type": "stream",
     "text": [
      "[-- -- -- -- -- -- -- -- 727.1 -- -- -- -- -- 611.0 594.4 579.0 557.0\n",
      " 548.0 546.9 540.0 534.0 528.0 514.0 505.0 500.0 488.0 470.0 460.8 449.0\n",
      " 433.0 405.0 400.0 389.0 369.5 341.0 324.0 300.0 298.0 294.4 268.0 250.0\n",
      " 226.0 219.0 205.0 200.0 195.0 189.0 185.2 172.0 168.5 167.0 160.0 150.0\n",
      " 147.0 139.3 132.8 132.0 131.0 130.0 127.0 126.0 124.0 120.8 120.0 115.2\n",
      " 109.8 107.0 104.7 100.0 94.5 82.6 82.3 80.6 75.4 74.7 72.2 71.2 70.0 67.8\n",
      " 66.0 64.8 64.1 63.5 58.9 58.6 56.3 -- -- -- -- -- -- -- 43.9 43.5 39.8\n",
      " 38.2 35.8 34.5 31.3 30.0 29.6 28.7 27.4 27.1 25.9 22.4 21.7 20.4 20.0\n",
      " 19.1 16.9 16.8 15.1 14.3 12.5 11.5 10.6]\n",
      "[-- -- -- -- -- -- -- -- 16.0 -- -- -- -- -- 15.0 16.0 17.0 19.0 20.0 20.0\n",
      " 20.0 21.0 21.0 21.0 22.0 22.0 20.0 17.0 15.0 16.0 18.0 20.0 21.0 21.0\n",
      " 20.0 23.0 24.0 27.0 28.0 27.0 29.0 30.0 32.0 33.0 34.0 35.0 34.0 32.0\n",
      " 31.0 46.0 53.0 52.0 49.0 45.0 43.0 36.0 46.0 47.0 47.0 48.0 50.0 51.0\n",
      " 53.0 55.0 54.0 45.0 35.0 30.0 26.0 33.0 30.0 21.0 21.0 24.0 35.0 36.0\n",
      " 31.0 29.0 28.0 33.0 31.0 30.0 30.0 29.0 24.0 24.0 15.0 -- -- -- -- -- --\n",
      " -- 18.0 18.0 17.0 17.0 16.0 16.0 29.0 24.0 24.0 23.0 22.0 22.0 22.0 35.0\n",
      " 31.0 22.0 22.0 23.0 27.0 27.0 27.0 27.0 26.0 26.0 26.0]\n"
     ]
    }
   ],
   "source": [
    "# now, what pressure levels are there where the winds are greater than 15 knots?\n",
    "p_w_l15 = ma.array(slc_snd[:,0],mask = w_l15)\n",
    "print(p_w_l15)\n",
    "# and what are those wind values\n",
    "w_w_l15 = ma.array(slc_snd[:,7],mask = w_l15)\n",
    "print(w_w_l15)"
   ]
  },
  {
   "cell_type": "code",
   "execution_count": 516,
   "metadata": {},
   "outputs": [
    {
     "data": {
      "text/plain": [
       "(0, 70)"
      ]
     },
     "execution_count": 516,
     "metadata": {},
     "output_type": "execute_result"
    },
    {
     "data": {
      "image/png": "[encoded data removed]",
      "text/plain": [
       "<Figure size 432x288 with 1 Axes>"
      ]
     },
     "metadata": {},
     "output_type": "display_data"
    }
   ],
   "source": [
    "#ok let's plot the levels with higher winds only\n",
    "fig = plt.figure()\n",
    "ax  = fig.add_subplot(1,1,1)\n",
    "ax.plot(w_w_l15,p_w_l15)\n",
    "ax.set(xlabel='Wind Speed (knots))', ylabel='Pressure (hPa))',\n",
    "       title='Salt Lake Sounding Wind Speed')\n",
    "ax.grid()\n",
    "#want pressure to decrease with height\n",
    "ax.set_ylim([875,0])\n",
    "ax.set_xlim([0,70])"
   ]
  },
  {
   "cell_type": "markdown",
   "metadata": {},
   "source": [
    "# In-Class Assignment 3\n",
    "Plot the potential temperature as a function of height only when the relative humidity is greater than 40%"
   ]
  },
  {
   "cell_type": "markdown",
   "metadata": {},
   "source": [
    "# Saving/Loading Numpy Arrays\n",
    "\n",
    "To save arrays for other Python programs, the numpy.save and numpy.load are available"
   ]
  },
  {
   "cell_type": "code",
   "execution_count": 517,
   "metadata": {},
   "outputs": [],
   "source": [
    "#save the sounding array to a binary file\n",
    "np.save('slc_snd_file',slc_snd)"
   ]
  },
  {
   "cell_type": "code",
   "execution_count": 518,
   "metadata": {},
   "outputs": [],
   "source": [
    "# make sure the file slc_snd_file.npy was created in your directory"
   ]
  },
  {
   "cell_type": "code",
   "execution_count": 519,
   "metadata": {},
   "outputs": [],
   "source": [
    "# load that array back in to a new array\n",
    "sounding_array=np.load('slc_snd_file.npy')"
   ]
  },
  {
   "cell_type": "code",
   "execution_count": 520,
   "metadata": {},
   "outputs": [
    {
     "name": "stdout",
     "output_type": "stream",
     "text": [
      "(array([], dtype=int64), array([], dtype=int64))\n"
     ]
    }
   ],
   "source": [
    "# are they the same?\n",
    "diff_true = np.where(sounding_array - slc_snd)\n",
    "print(diff_true)"
   ]
  }
 ],
 "metadata": {
  "kernelspec": {
   "display_name": "Python 3",
   "language": "python",
   "name": "python3"
  },
  "language_info": {
   "codemirror_mode": {
    "name": "ipython",
    "version": 3
   },
   "file_extension": ".py",
   "mimetype": "text/x-python",
   "name": "python",
   "nbconvert_exporter": "python",
   "pygments_lexer": "ipython3",
   "version": "3.6.5"
  }
 },
 "nbformat": 4,
 "nbformat_minor": 2
}
